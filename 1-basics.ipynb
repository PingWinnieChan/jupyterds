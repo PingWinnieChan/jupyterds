{
 "cells": [
  {
   "cell_type": "markdown",
   "metadata": {},
   "source": [
    "# PingWinnieChan"
   ]
  },
  {
   "cell_type": "code",
   "execution_count": 1,
   "metadata": {},
   "outputs": [],
   "source": [
    "a=1"
   ]
  },
  {
   "cell_type": "code",
   "execution_count": null,
   "metadata": {},
   "outputs": [],
   "source": []
  },
  {
   "cell_type": "code",
   "execution_count": 2,
   "metadata": {},
   "outputs": [],
   "source": [
    "b=1"
   ]
  },
  {
   "cell_type": "code",
   "execution_count": null,
   "metadata": {},
   "outputs": [],
   "source": []
  },
  {
   "cell_type": "code",
   "execution_count": null,
   "metadata": {},
   "outputs": [],
   "source": []
  },
  {
   "cell_type": "code",
   "execution_count": null,
   "metadata": {},
   "outputs": [],
   "source": []
  },
  {
   "cell_type": "code",
   "execution_count": null,
   "metadata": {},
   "outputs": [],
   "source": []
  },
  {
   "cell_type": "code",
   "execution_count": null,
   "metadata": {},
   "outputs": [],
   "source": []
  },
  {
   "cell_type": "markdown",
   "metadata": {},
   "source": [
    "Great! Let's get started!"
   ]
  },
  {
   "cell_type": "markdown",
   "metadata": {},
   "source": [
    "# 1. Introduction to Data Science in Python\n",
    "\n",
    "This notebook helps introduce some of the most basic tools that are commonly used for doing data science and statistics in Python.\n",
    "\n",
    "\n",
    "# Table of contents\n",
    "* [Introduction](#introduction)\n",
    "* [Jupyter Notebook](#Jupyter-Notebook)\n",
    "* [pandas](#pandas)\n",
    "* [NumPy](#Introduction-to-NumPy)\n",
    "* [Data visualization with matplotlib](#plotting)\n",
    "* [Linear regression with Scikit-learn and statsmodels](#Linear-regression-with-scikit-learn-and-statsmodels)\n",
    "* [Additional references](#additional-references)\n",
    "\n",
    "## Note: you will need to run the following code cell every time you restart this notebook\n",
    "If this is your first time using Jupyter, click the block of code below and either press the <i class=\"fa-step-forward fa\"></i><span class=\"toolbar-btn-label\">Run</span></div> button or press `Shift + Enter` on your keyboard.\n",
    "\n",
    "`a+b =1`"
   ]
  },
  {
   "cell_type": "code",
   "execution_count": 1,
   "metadata": {},
   "outputs": [
    {
     "data": {
      "text/plain": [
       "1"
      ]
     },
     "execution_count": 1,
     "metadata": {},
     "output_type": "execute_result"
    }
   ],
   "source": [
    "a =1 \n",
    "a"
   ]
  },
  {
   "cell_type": "code",
   "execution_count": 2,
   "metadata": {},
   "outputs": [],
   "source": [
    "import pandas               as pd\n",
    "import matplotlib.pyplot    as plt\n",
    "import numpy                as np\n",
    "import statsmodels.api      as sm\n",
    "import seaborn              as sns\n",
    "from   sklearn.linear_model import LinearRegression\n",
    "\n",
    "from IPython.display import display\n",
    "\n",
    "iris = sns.load_dataset('iris')"
   ]
  },
  {
   "cell_type": "code",
   "execution_count": 4,
   "metadata": {},
   "outputs": [],
   "source": [
    "import gower"
   ]
  },
  {
   "cell_type": "markdown",
   "metadata": {
    "tags": [
     "jupyter-notebook"
    ]
   },
   "source": [
    "# Jupyter Notebook <a id=\"Jupyter-Notebook\"></a>\n",
    "[Jupyter Notebook](https://jupyter.org/) is an interactive tool for running code and visualizing data. Each notebook consists of a series of _code cells_ and _Markdown cells_.\n",
    "\n",
    "\n",
    "* Code cells allow you to run code in a number of languages. Behind the scenes, Jupyter runs a \"kernel\" that processes the code whenever you execute a cell. Since this is a Python notebook, Jupyter is running the [IPython](https://ipython.org/) kernel. However, kernels also exist for Julia, R, and many other languages.\n",
    "* Markdown cells display text using the [Markdown language](https://jupyter-notebook.readthedocs.io/en/stable/examples/Notebook/Working%20With%20Markdown%20Cells.html). In addition to displaying text, you can write equations in these cells using $\\LaTeX$.\n",
    "\n",
    "$f(t) = \\exp(-\\alpha t) \\cos(\\omega t)$\n",
    "\n",
    "To run code, click a code cell (like the one below) and do one of the following:\n",
    "* Press `Shift + Enter` on your keyboard\n",
    "* On the toolbar at the top of this notebook, press the <i class=\"fa-step-forward fa\"></i><span class=\"toolbar-btn-label\">Run</span> button.\n"
   ]
  },
  {
   "cell_type": "code",
   "execution_count": 5,
   "metadata": {
    "tags": [
     "jupyter-notebook"
    ]
   },
   "outputs": [
    {
     "name": "stdout",
     "output_type": "stream",
     "text": [
      "Hello, world!\n"
     ]
    }
   ],
   "source": [
    "print(\"Hello, world!\")"
   ]
  },
  {
   "cell_type": "markdown",
   "metadata": {
    "tags": [
     "jupyter-notebook"
    ]
   },
   "source": [
    "You can render a markdown cell in the same way. Double click the text below, and try putting in some of the following items:\n",
    "\n",
    "`run(x) asdfasdf`\n",
    "\n",
    "    # This is a large heading!\n",
    "    ## This is a smaller heading!\n",
    "    ### This is an even smaller heading!\n",
    "    Here is some code: `x = y + z`\n",
    "    And here is an equation: $x = y + z$"
   ]
  },
  {
   "cell_type": "markdown",
   "metadata": {
    "tags": [
     "jupyter-notebook"
    ]
   },
   "source": [
    "this is a text.\n",
    "\n",
    "**this is a text**\n",
    "\n",
    "_this is text_"
   ]
  },
  {
   "cell_type": "markdown",
   "metadata": {},
   "source": [
    "### Cell magic\n",
    "The IPython kernel provides some useful tools for programmers, including\n",
    "\n",
    "* [Magic commands](https://ipython.readthedocs.io/en/stable/interactive/magics.html), which allow you to do things like look up documentation and past commands that you've run, and\n",
    "* [Building graphical user interfaces (GUIs)](https://ipython.org/ipython-doc/stable/interactive/reference.html#gui-event-loop-support) to make it easier to interact with your code.\n",
    "\n",
    "Here's an example of a useful magic command. `?` will look up the documentation for a library, class, or function to help you figure out how to use it. For instance, if I want to learn about [pandas DataFrames](https://pandas.pydata.org/pandas-docs/stable/reference/api/pandas.DataFrame.html), I can run the following:"
   ]
  },
  {
   "cell_type": "code",
   "execution_count": 6,
   "metadata": {},
   "outputs": [],
   "source": [
    "?pd.DataFrame"
   ]
  },
  {
   "cell_type": "markdown",
   "metadata": {},
   "source": [
    "If you want to see all the magic functions that IPython makes available to you, `%quickref` can give you a high-level overview."
   ]
  },
  {
   "cell_type": "code",
   "execution_count": 23,
   "metadata": {},
   "outputs": [],
   "source": [
    "%quickref"
   ]
  },
  {
   "cell_type": "code",
   "execution_count": 14,
   "metadata": {},
   "outputs": [
    {
     "name": "stdout",
     "output_type": "stream",
     "text": [
      "Wall time: 2 ms\n"
     ]
    }
   ],
   "source": [
    "%%time\n",
    "\n",
    "x = 0\n",
    "for i in range(0,10000):\n",
    "    x += i"
   ]
  },
  {
   "cell_type": "markdown",
   "metadata": {},
   "source": [
    "We can connect other languages and tools, for example execution in bash:"
   ]
  },
  {
   "cell_type": "code",
   "execution_count": 20,
   "metadata": {},
   "outputs": [
    {
     "name": "stdout",
     "output_type": "stream",
     "text": [
      "On branch master\n",
      "Your branch is up to date with 'origin/master'.\n",
      "\n",
      "Changes not staged for commit:\n",
      "  (use \"git add <file>...\" to update what will be committed)\n",
      "  (use \"git restore <file>...\" to discard changes in working directory)\n",
      "\tmodified:   1-basics.ipynb\n",
      "\tmodified:   3-widgets.ipynb\n",
      "\n",
      "no changes added to commit (use \"git add\" and/or \"git commit -a\")\n"
     ]
    }
   ],
   "source": [
    "!git status"
   ]
  },
  {
   "cell_type": "markdown",
   "metadata": {},
   "source": [
    "Can also fetch images from disk or the Internet, for example from European XFEL"
   ]
  },
  {
   "cell_type": "code",
   "execution_count": 22,
   "metadata": {},
   "outputs": [
    {
     "data": {
      "image/png": "[encoded data removed]",
      "text/plain": [
       "<IPython.core.display.Image object>"
      ]
     },
     "execution_count": 22,
     "metadata": {},
     "output_type": "execute_result"
    }
   ],
   "source": [
    "from IPython.display import Image\n",
    "Image(\"https://scikit-learn.org/stable/_images/sphx_glr_plot_adaboost_regression_thumb.png\")"
   ]
  },
  {
   "cell_type": "markdown",
   "metadata": {
    "tags": [
     "pandas"
    ]
   },
   "source": [
    "# pandas <a id=\"pandas\"></a>\n",
    "[pandas](https://pandas.pydata.org/) is a Python library that provides useful data structures and tools for analyzing data.\n",
    "\n",
    "The fundamental type of the pandas library is the `DataFrame`. In the following code, we load the [iris flower dataset](https://en.wikipedia.org/wiki/Iris_flower_data_set) using the [seaborn library](https://seaborn.pydata.org/). By default, this dataset is stored in a pandas `DataFrame`."
   ]
  },
  {
   "cell_type": "code",
   "execution_count": 24,
   "metadata": {
    "tags": [
     "pandas"
    ]
   },
   "outputs": [
    {
     "name": "stdout",
     "output_type": "stream",
     "text": [
      "Type of \"iris\": <class 'pandas.core.frame.DataFrame'>\n"
     ]
    },
    {
     "data": {
      "text/html": [
       "<div>\n",
       "<style scoped>\n",
       "    .dataframe tbody tr th:only-of-type {\n",
       "        vertical-align: middle;\n",
       "    }\n",
       "\n",
       "    .dataframe tbody tr th {\n",
       "        vertical-align: top;\n",
       "    }\n",
       "\n",
       "    .dataframe thead th {\n",
       "        text-align: right;\n",
       "    }\n",
       "</style>\n",
       "<table border=\"1\" class=\"dataframe\">\n",
       "  <thead>\n",
       "    <tr style=\"text-align: right;\">\n",
       "      <th></th>\n",
       "      <th>sepal_length</th>\n",
       "      <th>sepal_width</th>\n",
       "      <th>petal_length</th>\n",
       "      <th>petal_width</th>\n",
       "      <th>species</th>\n",
       "    </tr>\n",
       "  </thead>\n",
       "  <tbody>\n",
       "    <tr>\n",
       "      <th>0</th>\n",
       "      <td>5.1</td>\n",
       "      <td>3.5</td>\n",
       "      <td>1.4</td>\n",
       "      <td>0.2</td>\n",
       "      <td>setosa</td>\n",
       "    </tr>\n",
       "    <tr>\n",
       "      <th>1</th>\n",
       "      <td>4.9</td>\n",
       "      <td>3.0</td>\n",
       "      <td>1.4</td>\n",
       "      <td>0.2</td>\n",
       "      <td>setosa</td>\n",
       "    </tr>\n",
       "    <tr>\n",
       "      <th>2</th>\n",
       "      <td>4.7</td>\n",
       "      <td>3.2</td>\n",
       "      <td>1.3</td>\n",
       "      <td>0.2</td>\n",
       "      <td>setosa</td>\n",
       "    </tr>\n",
       "    <tr>\n",
       "      <th>3</th>\n",
       "      <td>4.6</td>\n",
       "      <td>3.1</td>\n",
       "      <td>1.5</td>\n",
       "      <td>0.2</td>\n",
       "      <td>setosa</td>\n",
       "    </tr>\n",
       "    <tr>\n",
       "      <th>4</th>\n",
       "      <td>5.0</td>\n",
       "      <td>3.6</td>\n",
       "      <td>1.4</td>\n",
       "      <td>0.2</td>\n",
       "      <td>setosa</td>\n",
       "    </tr>\n",
       "  </tbody>\n",
       "</table>\n",
       "</div>"
      ],
      "text/plain": [
       "   sepal_length  sepal_width  petal_length  petal_width species\n",
       "0           5.1          3.5           1.4          0.2  setosa\n",
       "1           4.9          3.0           1.4          0.2  setosa\n",
       "2           4.7          3.2           1.3          0.2  setosa\n",
       "3           4.6          3.1           1.5          0.2  setosa\n",
       "4           5.0          3.6           1.4          0.2  setosa"
      ]
     },
     "execution_count": 24,
     "metadata": {},
     "output_type": "execute_result"
    }
   ],
   "source": [
    "import pandas as pd\n",
    "import seaborn as sns\n",
    "\n",
    "iris = sns.load_dataset('iris')\n",
    "\n",
    "# `iris` is stored as a pandas DataFrame\n",
    "print('Type of \"iris\":', type(iris))\n",
    "\n",
    "# Show the first few entries in this DataFrame\n",
    "iris.head()"
   ]
  },
  {
   "cell_type": "markdown",
   "metadata": {
    "tags": [
     "pandas"
    ]
   },
   "source": [
    "Let's get some information about the iris dataset. Let's try to do the following:\n",
    "\n",
    "1. Find out how many columns there are in the `DataFrame` object, and what kinds of data are in each column\n",
    "2. Calculate the average petal length\n",
    "3. Determine what species of flowers are in the dataset\n",
    "4. Get an overall summary of the dataset"
   ]
  },
  {
   "cell_type": "code",
   "execution_count": 25,
   "metadata": {
    "tags": [
     "pandas"
    ]
   },
   "outputs": [
    {
     "data": {
      "text/plain": [
       "sepal_length    float64\n",
       "sepal_width     float64\n",
       "petal_length    float64\n",
       "petal_width     float64\n",
       "species          object\n",
       "dtype: object"
      ]
     },
     "execution_count": 25,
     "metadata": {},
     "output_type": "execute_result"
    }
   ],
   "source": [
    "# 1. Column labels, and types of data in each column\n",
    "iris.dtypes"
   ]
  },
  {
   "cell_type": "code",
   "execution_count": 26,
   "metadata": {
    "tags": [
     "pandas"
    ]
   },
   "outputs": [
    {
     "data": {
      "text/plain": [
       "3.7580000000000027"
      ]
     },
     "execution_count": 26,
     "metadata": {},
     "output_type": "execute_result"
    }
   ],
   "source": [
    "# 2. Calculate the average petal length\n",
    "iris['petal_length'].mean()"
   ]
  },
  {
   "cell_type": "code",
   "execution_count": 27,
   "metadata": {
    "tags": [
     "pandas"
    ]
   },
   "outputs": [
    {
     "data": {
      "text/plain": [
       "array(['setosa', 'versicolor', 'virginica'], dtype=object)"
      ]
     },
     "execution_count": 27,
     "metadata": {},
     "output_type": "execute_result"
    }
   ],
   "source": [
    "# 3. Determine which iris species are in the dataset\n",
    "iris['species'].unique()"
   ]
  },
  {
   "cell_type": "code",
   "execution_count": 28,
   "metadata": {
    "tags": [
     "pandas"
    ]
   },
   "outputs": [
    {
     "data": {
      "text/html": [
       "<div>\n",
       "<style scoped>\n",
       "    .dataframe tbody tr th:only-of-type {\n",
       "        vertical-align: middle;\n",
       "    }\n",
       "\n",
       "    .dataframe tbody tr th {\n",
       "        vertical-align: top;\n",
       "    }\n",
       "\n",
       "    .dataframe thead th {\n",
       "        text-align: right;\n",
       "    }\n",
       "</style>\n",
       "<table border=\"1\" class=\"dataframe\">\n",
       "  <thead>\n",
       "    <tr style=\"text-align: right;\">\n",
       "      <th></th>\n",
       "      <th>sepal_length</th>\n",
       "      <th>sepal_width</th>\n",
       "      <th>petal_length</th>\n",
       "      <th>petal_width</th>\n",
       "    </tr>\n",
       "  </thead>\n",
       "  <tbody>\n",
       "    <tr>\n",
       "      <th>count</th>\n",
       "      <td>150.000000</td>\n",
       "      <td>150.000000</td>\n",
       "      <td>150.000000</td>\n",
       "      <td>150.000000</td>\n",
       "    </tr>\n",
       "    <tr>\n",
       "      <th>mean</th>\n",
       "      <td>5.843333</td>\n",
       "      <td>3.057333</td>\n",
       "      <td>3.758000</td>\n",
       "      <td>1.199333</td>\n",
       "    </tr>\n",
       "    <tr>\n",
       "      <th>std</th>\n",
       "      <td>0.828066</td>\n",
       "      <td>0.435866</td>\n",
       "      <td>1.765298</td>\n",
       "      <td>0.762238</td>\n",
       "    </tr>\n",
       "    <tr>\n",
       "      <th>min</th>\n",
       "      <td>4.300000</td>\n",
       "      <td>2.000000</td>\n",
       "      <td>1.000000</td>\n",
       "      <td>0.100000</td>\n",
       "    </tr>\n",
       "    <tr>\n",
       "      <th>25%</th>\n",
       "      <td>5.100000</td>\n",
       "      <td>2.800000</td>\n",
       "      <td>1.600000</td>\n",
       "      <td>0.300000</td>\n",
       "    </tr>\n",
       "    <tr>\n",
       "      <th>50%</th>\n",
       "      <td>5.800000</td>\n",
       "      <td>3.000000</td>\n",
       "      <td>4.350000</td>\n",
       "      <td>1.300000</td>\n",
       "    </tr>\n",
       "    <tr>\n",
       "      <th>75%</th>\n",
       "      <td>6.400000</td>\n",
       "      <td>3.300000</td>\n",
       "      <td>5.100000</td>\n",
       "      <td>1.800000</td>\n",
       "    </tr>\n",
       "    <tr>\n",
       "      <th>max</th>\n",
       "      <td>7.900000</td>\n",
       "      <td>4.400000</td>\n",
       "      <td>6.900000</td>\n",
       "      <td>2.500000</td>\n",
       "    </tr>\n",
       "  </tbody>\n",
       "</table>\n",
       "</div>"
      ],
      "text/plain": [
       "       sepal_length  sepal_width  petal_length  petal_width\n",
       "count    150.000000   150.000000    150.000000   150.000000\n",
       "mean       5.843333     3.057333      3.758000     1.199333\n",
       "std        0.828066     0.435866      1.765298     0.762238\n",
       "min        4.300000     2.000000      1.000000     0.100000\n",
       "25%        5.100000     2.800000      1.600000     0.300000\n",
       "50%        5.800000     3.000000      4.350000     1.300000\n",
       "75%        6.400000     3.300000      5.100000     1.800000\n",
       "max        7.900000     4.400000      6.900000     2.500000"
      ]
     },
     "execution_count": 28,
     "metadata": {},
     "output_type": "execute_result"
    }
   ],
   "source": [
    "# 4. Summary of the data\n",
    "iris.describe()"
   ]
  },
  {
   "cell_type": "markdown",
   "metadata": {},
   "source": [
    "Sometimes we need to extract certain rows or columns of a DataFrame. For instance, in the following code we store each species of flower in its own variable:"
   ]
  },
  {
   "cell_type": "code",
   "execution_count": 29,
   "metadata": {
    "tags": [
     "pandas"
    ]
   },
   "outputs": [
    {
     "name": "stdout",
     "output_type": "stream",
     "text": [
      "Setosa data:\n"
     ]
    },
    {
     "data": {
      "text/html": [
       "<div>\n",
       "<style scoped>\n",
       "    .dataframe tbody tr th:only-of-type {\n",
       "        vertical-align: middle;\n",
       "    }\n",
       "\n",
       "    .dataframe tbody tr th {\n",
       "        vertical-align: top;\n",
       "    }\n",
       "\n",
       "    .dataframe thead th {\n",
       "        text-align: right;\n",
       "    }\n",
       "</style>\n",
       "<table border=\"1\" class=\"dataframe\">\n",
       "  <thead>\n",
       "    <tr style=\"text-align: right;\">\n",
       "      <th></th>\n",
       "      <th>sepal_length</th>\n",
       "      <th>sepal_width</th>\n",
       "      <th>petal_length</th>\n",
       "      <th>petal_width</th>\n",
       "      <th>species</th>\n",
       "    </tr>\n",
       "  </thead>\n",
       "  <tbody>\n",
       "    <tr>\n",
       "      <th>0</th>\n",
       "      <td>5.1</td>\n",
       "      <td>3.5</td>\n",
       "      <td>1.4</td>\n",
       "      <td>0.2</td>\n",
       "      <td>setosa</td>\n",
       "    </tr>\n",
       "    <tr>\n",
       "      <th>1</th>\n",
       "      <td>4.9</td>\n",
       "      <td>3.0</td>\n",
       "      <td>1.4</td>\n",
       "      <td>0.2</td>\n",
       "      <td>setosa</td>\n",
       "    </tr>\n",
       "    <tr>\n",
       "      <th>2</th>\n",
       "      <td>4.7</td>\n",
       "      <td>3.2</td>\n",
       "      <td>1.3</td>\n",
       "      <td>0.2</td>\n",
       "      <td>setosa</td>\n",
       "    </tr>\n",
       "    <tr>\n",
       "      <th>3</th>\n",
       "      <td>4.6</td>\n",
       "      <td>3.1</td>\n",
       "      <td>1.5</td>\n",
       "      <td>0.2</td>\n",
       "      <td>setosa</td>\n",
       "    </tr>\n",
       "    <tr>\n",
       "      <th>4</th>\n",
       "      <td>5.0</td>\n",
       "      <td>3.6</td>\n",
       "      <td>1.4</td>\n",
       "      <td>0.2</td>\n",
       "      <td>setosa</td>\n",
       "    </tr>\n",
       "  </tbody>\n",
       "</table>\n",
       "</div>"
      ],
      "text/plain": [
       "   sepal_length  sepal_width  petal_length  petal_width species\n",
       "0           5.1          3.5           1.4          0.2  setosa\n",
       "1           4.9          3.0           1.4          0.2  setosa\n",
       "2           4.7          3.2           1.3          0.2  setosa\n",
       "3           4.6          3.1           1.5          0.2  setosa\n",
       "4           5.0          3.6           1.4          0.2  setosa"
      ]
     },
     "metadata": {},
     "output_type": "display_data"
    },
    {
     "name": "stdout",
     "output_type": "stream",
     "text": [
      "Versicolor data:\n"
     ]
    },
    {
     "data": {
      "text/html": [
       "<div>\n",
       "<style scoped>\n",
       "    .dataframe tbody tr th:only-of-type {\n",
       "        vertical-align: middle;\n",
       "    }\n",
       "\n",
       "    .dataframe tbody tr th {\n",
       "        vertical-align: top;\n",
       "    }\n",
       "\n",
       "    .dataframe thead th {\n",
       "        text-align: right;\n",
       "    }\n",
       "</style>\n",
       "<table border=\"1\" class=\"dataframe\">\n",
       "  <thead>\n",
       "    <tr style=\"text-align: right;\">\n",
       "      <th></th>\n",
       "      <th>sepal_length</th>\n",
       "      <th>sepal_width</th>\n",
       "      <th>petal_length</th>\n",
       "      <th>petal_width</th>\n",
       "      <th>species</th>\n",
       "    </tr>\n",
       "  </thead>\n",
       "  <tbody>\n",
       "    <tr>\n",
       "      <th>50</th>\n",
       "      <td>7.0</td>\n",
       "      <td>3.2</td>\n",
       "      <td>4.7</td>\n",
       "      <td>1.4</td>\n",
       "      <td>versicolor</td>\n",
       "    </tr>\n",
       "    <tr>\n",
       "      <th>51</th>\n",
       "      <td>6.4</td>\n",
       "      <td>3.2</td>\n",
       "      <td>4.5</td>\n",
       "      <td>1.5</td>\n",
       "      <td>versicolor</td>\n",
       "    </tr>\n",
       "    <tr>\n",
       "      <th>52</th>\n",
       "      <td>6.9</td>\n",
       "      <td>3.1</td>\n",
       "      <td>4.9</td>\n",
       "      <td>1.5</td>\n",
       "      <td>versicolor</td>\n",
       "    </tr>\n",
       "    <tr>\n",
       "      <th>53</th>\n",
       "      <td>5.5</td>\n",
       "      <td>2.3</td>\n",
       "      <td>4.0</td>\n",
       "      <td>1.3</td>\n",
       "      <td>versicolor</td>\n",
       "    </tr>\n",
       "    <tr>\n",
       "      <th>54</th>\n",
       "      <td>6.5</td>\n",
       "      <td>2.8</td>\n",
       "      <td>4.6</td>\n",
       "      <td>1.5</td>\n",
       "      <td>versicolor</td>\n",
       "    </tr>\n",
       "  </tbody>\n",
       "</table>\n",
       "</div>"
      ],
      "text/plain": [
       "    sepal_length  sepal_width  petal_length  petal_width     species\n",
       "50           7.0          3.2           4.7          1.4  versicolor\n",
       "51           6.4          3.2           4.5          1.5  versicolor\n",
       "52           6.9          3.1           4.9          1.5  versicolor\n",
       "53           5.5          2.3           4.0          1.3  versicolor\n",
       "54           6.5          2.8           4.6          1.5  versicolor"
      ]
     },
     "metadata": {},
     "output_type": "display_data"
    },
    {
     "name": "stdout",
     "output_type": "stream",
     "text": [
      "Virginica data:\n"
     ]
    },
    {
     "data": {
      "text/html": [
       "<div>\n",
       "<style scoped>\n",
       "    .dataframe tbody tr th:only-of-type {\n",
       "        vertical-align: middle;\n",
       "    }\n",
       "\n",
       "    .dataframe tbody tr th {\n",
       "        vertical-align: top;\n",
       "    }\n",
       "\n",
       "    .dataframe thead th {\n",
       "        text-align: right;\n",
       "    }\n",
       "</style>\n",
       "<table border=\"1\" class=\"dataframe\">\n",
       "  <thead>\n",
       "    <tr style=\"text-align: right;\">\n",
       "      <th></th>\n",
       "      <th>sepal_length</th>\n",
       "      <th>sepal_width</th>\n",
       "      <th>petal_length</th>\n",
       "      <th>petal_width</th>\n",
       "      <th>species</th>\n",
       "    </tr>\n",
       "  </thead>\n",
       "  <tbody>\n",
       "    <tr>\n",
       "      <th>100</th>\n",
       "      <td>6.3</td>\n",
       "      <td>3.3</td>\n",
       "      <td>6.0</td>\n",
       "      <td>2.5</td>\n",
       "      <td>virginica</td>\n",
       "    </tr>\n",
       "    <tr>\n",
       "      <th>101</th>\n",
       "      <td>5.8</td>\n",
       "      <td>2.7</td>\n",
       "      <td>5.1</td>\n",
       "      <td>1.9</td>\n",
       "      <td>virginica</td>\n",
       "    </tr>\n",
       "    <tr>\n",
       "      <th>102</th>\n",
       "      <td>7.1</td>\n",
       "      <td>3.0</td>\n",
       "      <td>5.9</td>\n",
       "      <td>2.1</td>\n",
       "      <td>virginica</td>\n",
       "    </tr>\n",
       "    <tr>\n",
       "      <th>103</th>\n",
       "      <td>6.3</td>\n",
       "      <td>2.9</td>\n",
       "      <td>5.6</td>\n",
       "      <td>1.8</td>\n",
       "      <td>virginica</td>\n",
       "    </tr>\n",
       "    <tr>\n",
       "      <th>104</th>\n",
       "      <td>6.5</td>\n",
       "      <td>3.0</td>\n",
       "      <td>5.8</td>\n",
       "      <td>2.2</td>\n",
       "      <td>virginica</td>\n",
       "    </tr>\n",
       "  </tbody>\n",
       "</table>\n",
       "</div>"
      ],
      "text/plain": [
       "     sepal_length  sepal_width  petal_length  petal_width    species\n",
       "100           6.3          3.3           6.0          2.5  virginica\n",
       "101           5.8          2.7           5.1          1.9  virginica\n",
       "102           7.1          3.0           5.9          2.1  virginica\n",
       "103           6.3          2.9           5.6          1.8  virginica\n",
       "104           6.5          3.0           5.8          2.2  virginica"
      ]
     },
     "metadata": {},
     "output_type": "display_data"
    }
   ],
   "source": [
    "\"\"\"\n",
    "IPython.display is a convenience function that works in Jupyter Notebook\n",
    "(or, more generally, any IPython-based application) that will show\n",
    "objects in a nicer way than using print(). We'll use it in this notebook\n",
    "to show some pandas DataFrames.\n",
    "\"\"\"\n",
    "from IPython.display import display\n",
    "\n",
    "\"\"\"\n",
    "Create a DataFrame for each species of flower. I've provided two\n",
    "methods for creating these DataFrames below; pick whichever you\n",
    "prefer as they are equivalent.\n",
    "\"\"\"\n",
    "# Method 1: \"query\" function\n",
    "setosa     = iris.query('species == \"setosa\"')\n",
    "versicolor = iris.query('species == \"versicolor\"')\n",
    "\n",
    "# Method 2: index into the DataFrame\n",
    "virginica = iris[iris['species'] == 'virginica']\n",
    "\n",
    "\"\"\"\n",
    "Show the first few entries of the DataFrame corresponding to each species\n",
    "\"\"\"\n",
    "print('Setosa data:')\n",
    "display(setosa.head())\n",
    "\n",
    "print('Versicolor data:')\n",
    "display(versicolor.head())\n",
    "\n",
    "print('Virginica data:')\n",
    "display(virginica.head())"
   ]
  },
  {
   "cell_type": "code",
   "execution_count": 30,
   "metadata": {},
   "outputs": [
    {
     "data": {
      "text/html": [
       "<div>\n",
       "<style scoped>\n",
       "    .dataframe tbody tr th:only-of-type {\n",
       "        vertical-align: middle;\n",
       "    }\n",
       "\n",
       "    .dataframe tbody tr th {\n",
       "        vertical-align: top;\n",
       "    }\n",
       "\n",
       "    .dataframe thead th {\n",
       "        text-align: right;\n",
       "    }\n",
       "</style>\n",
       "<table border=\"1\" class=\"dataframe\">\n",
       "  <thead>\n",
       "    <tr style=\"text-align: right;\">\n",
       "      <th></th>\n",
       "      <th>sepal_length</th>\n",
       "      <th>sepal_width</th>\n",
       "      <th>petal_length</th>\n",
       "      <th>petal_width</th>\n",
       "      <th>species</th>\n",
       "    </tr>\n",
       "  </thead>\n",
       "  <tbody>\n",
       "    <tr>\n",
       "      <th>50</th>\n",
       "      <td>7.0</td>\n",
       "      <td>3.2</td>\n",
       "      <td>4.7</td>\n",
       "      <td>1.4</td>\n",
       "      <td>versicolor</td>\n",
       "    </tr>\n",
       "    <tr>\n",
       "      <th>51</th>\n",
       "      <td>6.4</td>\n",
       "      <td>3.2</td>\n",
       "      <td>4.5</td>\n",
       "      <td>1.5</td>\n",
       "      <td>versicolor</td>\n",
       "    </tr>\n",
       "    <tr>\n",
       "      <th>52</th>\n",
       "      <td>6.9</td>\n",
       "      <td>3.1</td>\n",
       "      <td>4.9</td>\n",
       "      <td>1.5</td>\n",
       "      <td>versicolor</td>\n",
       "    </tr>\n",
       "    <tr>\n",
       "      <th>53</th>\n",
       "      <td>5.5</td>\n",
       "      <td>2.3</td>\n",
       "      <td>4.0</td>\n",
       "      <td>1.3</td>\n",
       "      <td>versicolor</td>\n",
       "    </tr>\n",
       "    <tr>\n",
       "      <th>54</th>\n",
       "      <td>6.5</td>\n",
       "      <td>2.8</td>\n",
       "      <td>4.6</td>\n",
       "      <td>1.5</td>\n",
       "      <td>versicolor</td>\n",
       "    </tr>\n",
       "    <tr>\n",
       "      <th>55</th>\n",
       "      <td>5.7</td>\n",
       "      <td>2.8</td>\n",
       "      <td>4.5</td>\n",
       "      <td>1.3</td>\n",
       "      <td>versicolor</td>\n",
       "    </tr>\n",
       "    <tr>\n",
       "      <th>56</th>\n",
       "      <td>6.3</td>\n",
       "      <td>3.3</td>\n",
       "      <td>4.7</td>\n",
       "      <td>1.6</td>\n",
       "      <td>versicolor</td>\n",
       "    </tr>\n",
       "    <tr>\n",
       "      <th>57</th>\n",
       "      <td>4.9</td>\n",
       "      <td>2.4</td>\n",
       "      <td>3.3</td>\n",
       "      <td>1.0</td>\n",
       "      <td>versicolor</td>\n",
       "    </tr>\n",
       "    <tr>\n",
       "      <th>58</th>\n",
       "      <td>6.6</td>\n",
       "      <td>2.9</td>\n",
       "      <td>4.6</td>\n",
       "      <td>1.3</td>\n",
       "      <td>versicolor</td>\n",
       "    </tr>\n",
       "    <tr>\n",
       "      <th>59</th>\n",
       "      <td>5.2</td>\n",
       "      <td>2.7</td>\n",
       "      <td>3.9</td>\n",
       "      <td>1.4</td>\n",
       "      <td>versicolor</td>\n",
       "    </tr>\n",
       "    <tr>\n",
       "      <th>60</th>\n",
       "      <td>5.0</td>\n",
       "      <td>2.0</td>\n",
       "      <td>3.5</td>\n",
       "      <td>1.0</td>\n",
       "      <td>versicolor</td>\n",
       "    </tr>\n",
       "    <tr>\n",
       "      <th>61</th>\n",
       "      <td>5.9</td>\n",
       "      <td>3.0</td>\n",
       "      <td>4.2</td>\n",
       "      <td>1.5</td>\n",
       "      <td>versicolor</td>\n",
       "    </tr>\n",
       "    <tr>\n",
       "      <th>62</th>\n",
       "      <td>6.0</td>\n",
       "      <td>2.2</td>\n",
       "      <td>4.0</td>\n",
       "      <td>1.0</td>\n",
       "      <td>versicolor</td>\n",
       "    </tr>\n",
       "    <tr>\n",
       "      <th>63</th>\n",
       "      <td>6.1</td>\n",
       "      <td>2.9</td>\n",
       "      <td>4.7</td>\n",
       "      <td>1.4</td>\n",
       "      <td>versicolor</td>\n",
       "    </tr>\n",
       "    <tr>\n",
       "      <th>64</th>\n",
       "      <td>5.6</td>\n",
       "      <td>2.9</td>\n",
       "      <td>3.6</td>\n",
       "      <td>1.3</td>\n",
       "      <td>versicolor</td>\n",
       "    </tr>\n",
       "    <tr>\n",
       "      <th>65</th>\n",
       "      <td>6.7</td>\n",
       "      <td>3.1</td>\n",
       "      <td>4.4</td>\n",
       "      <td>1.4</td>\n",
       "      <td>versicolor</td>\n",
       "    </tr>\n",
       "    <tr>\n",
       "      <th>66</th>\n",
       "      <td>5.6</td>\n",
       "      <td>3.0</td>\n",
       "      <td>4.5</td>\n",
       "      <td>1.5</td>\n",
       "      <td>versicolor</td>\n",
       "    </tr>\n",
       "    <tr>\n",
       "      <th>67</th>\n",
       "      <td>5.8</td>\n",
       "      <td>2.7</td>\n",
       "      <td>4.1</td>\n",
       "      <td>1.0</td>\n",
       "      <td>versicolor</td>\n",
       "    </tr>\n",
       "    <tr>\n",
       "      <th>68</th>\n",
       "      <td>6.2</td>\n",
       "      <td>2.2</td>\n",
       "      <td>4.5</td>\n",
       "      <td>1.5</td>\n",
       "      <td>versicolor</td>\n",
       "    </tr>\n",
       "    <tr>\n",
       "      <th>69</th>\n",
       "      <td>5.6</td>\n",
       "      <td>2.5</td>\n",
       "      <td>3.9</td>\n",
       "      <td>1.1</td>\n",
       "      <td>versicolor</td>\n",
       "    </tr>\n",
       "    <tr>\n",
       "      <th>70</th>\n",
       "      <td>5.9</td>\n",
       "      <td>3.2</td>\n",
       "      <td>4.8</td>\n",
       "      <td>1.8</td>\n",
       "      <td>versicolor</td>\n",
       "    </tr>\n",
       "    <tr>\n",
       "      <th>71</th>\n",
       "      <td>6.1</td>\n",
       "      <td>2.8</td>\n",
       "      <td>4.0</td>\n",
       "      <td>1.3</td>\n",
       "      <td>versicolor</td>\n",
       "    </tr>\n",
       "    <tr>\n",
       "      <th>72</th>\n",
       "      <td>6.3</td>\n",
       "      <td>2.5</td>\n",
       "      <td>4.9</td>\n",
       "      <td>1.5</td>\n",
       "      <td>versicolor</td>\n",
       "    </tr>\n",
       "    <tr>\n",
       "      <th>73</th>\n",
       "      <td>6.1</td>\n",
       "      <td>2.8</td>\n",
       "      <td>4.7</td>\n",
       "      <td>1.2</td>\n",
       "      <td>versicolor</td>\n",
       "    </tr>\n",
       "    <tr>\n",
       "      <th>74</th>\n",
       "      <td>6.4</td>\n",
       "      <td>2.9</td>\n",
       "      <td>4.3</td>\n",
       "      <td>1.3</td>\n",
       "      <td>versicolor</td>\n",
       "    </tr>\n",
       "    <tr>\n",
       "      <th>75</th>\n",
       "      <td>6.6</td>\n",
       "      <td>3.0</td>\n",
       "      <td>4.4</td>\n",
       "      <td>1.4</td>\n",
       "      <td>versicolor</td>\n",
       "    </tr>\n",
       "    <tr>\n",
       "      <th>76</th>\n",
       "      <td>6.8</td>\n",
       "      <td>2.8</td>\n",
       "      <td>4.8</td>\n",
       "      <td>1.4</td>\n",
       "      <td>versicolor</td>\n",
       "    </tr>\n",
       "    <tr>\n",
       "      <th>77</th>\n",
       "      <td>6.7</td>\n",
       "      <td>3.0</td>\n",
       "      <td>5.0</td>\n",
       "      <td>1.7</td>\n",
       "      <td>versicolor</td>\n",
       "    </tr>\n",
       "    <tr>\n",
       "      <th>78</th>\n",
       "      <td>6.0</td>\n",
       "      <td>2.9</td>\n",
       "      <td>4.5</td>\n",
       "      <td>1.5</td>\n",
       "      <td>versicolor</td>\n",
       "    </tr>\n",
       "    <tr>\n",
       "      <th>79</th>\n",
       "      <td>5.7</td>\n",
       "      <td>2.6</td>\n",
       "      <td>3.5</td>\n",
       "      <td>1.0</td>\n",
       "      <td>versicolor</td>\n",
       "    </tr>\n",
       "    <tr>\n",
       "      <th>80</th>\n",
       "      <td>5.5</td>\n",
       "      <td>2.4</td>\n",
       "      <td>3.8</td>\n",
       "      <td>1.1</td>\n",
       "      <td>versicolor</td>\n",
       "    </tr>\n",
       "    <tr>\n",
       "      <th>81</th>\n",
       "      <td>5.5</td>\n",
       "      <td>2.4</td>\n",
       "      <td>3.7</td>\n",
       "      <td>1.0</td>\n",
       "      <td>versicolor</td>\n",
       "    </tr>\n",
       "    <tr>\n",
       "      <th>82</th>\n",
       "      <td>5.8</td>\n",
       "      <td>2.7</td>\n",
       "      <td>3.9</td>\n",
       "      <td>1.2</td>\n",
       "      <td>versicolor</td>\n",
       "    </tr>\n",
       "    <tr>\n",
       "      <th>83</th>\n",
       "      <td>6.0</td>\n",
       "      <td>2.7</td>\n",
       "      <td>5.1</td>\n",
       "      <td>1.6</td>\n",
       "      <td>versicolor</td>\n",
       "    </tr>\n",
       "    <tr>\n",
       "      <th>84</th>\n",
       "      <td>5.4</td>\n",
       "      <td>3.0</td>\n",
       "      <td>4.5</td>\n",
       "      <td>1.5</td>\n",
       "      <td>versicolor</td>\n",
       "    </tr>\n",
       "    <tr>\n",
       "      <th>85</th>\n",
       "      <td>6.0</td>\n",
       "      <td>3.4</td>\n",
       "      <td>4.5</td>\n",
       "      <td>1.6</td>\n",
       "      <td>versicolor</td>\n",
       "    </tr>\n",
       "    <tr>\n",
       "      <th>86</th>\n",
       "      <td>6.7</td>\n",
       "      <td>3.1</td>\n",
       "      <td>4.7</td>\n",
       "      <td>1.5</td>\n",
       "      <td>versicolor</td>\n",
       "    </tr>\n",
       "    <tr>\n",
       "      <th>87</th>\n",
       "      <td>6.3</td>\n",
       "      <td>2.3</td>\n",
       "      <td>4.4</td>\n",
       "      <td>1.3</td>\n",
       "      <td>versicolor</td>\n",
       "    </tr>\n",
       "    <tr>\n",
       "      <th>88</th>\n",
       "      <td>5.6</td>\n",
       "      <td>3.0</td>\n",
       "      <td>4.1</td>\n",
       "      <td>1.3</td>\n",
       "      <td>versicolor</td>\n",
       "    </tr>\n",
       "    <tr>\n",
       "      <th>89</th>\n",
       "      <td>5.5</td>\n",
       "      <td>2.5</td>\n",
       "      <td>4.0</td>\n",
       "      <td>1.3</td>\n",
       "      <td>versicolor</td>\n",
       "    </tr>\n",
       "    <tr>\n",
       "      <th>90</th>\n",
       "      <td>5.5</td>\n",
       "      <td>2.6</td>\n",
       "      <td>4.4</td>\n",
       "      <td>1.2</td>\n",
       "      <td>versicolor</td>\n",
       "    </tr>\n",
       "    <tr>\n",
       "      <th>91</th>\n",
       "      <td>6.1</td>\n",
       "      <td>3.0</td>\n",
       "      <td>4.6</td>\n",
       "      <td>1.4</td>\n",
       "      <td>versicolor</td>\n",
       "    </tr>\n",
       "    <tr>\n",
       "      <th>92</th>\n",
       "      <td>5.8</td>\n",
       "      <td>2.6</td>\n",
       "      <td>4.0</td>\n",
       "      <td>1.2</td>\n",
       "      <td>versicolor</td>\n",
       "    </tr>\n",
       "    <tr>\n",
       "      <th>93</th>\n",
       "      <td>5.0</td>\n",
       "      <td>2.3</td>\n",
       "      <td>3.3</td>\n",
       "      <td>1.0</td>\n",
       "      <td>versicolor</td>\n",
       "    </tr>\n",
       "    <tr>\n",
       "      <th>94</th>\n",
       "      <td>5.6</td>\n",
       "      <td>2.7</td>\n",
       "      <td>4.2</td>\n",
       "      <td>1.3</td>\n",
       "      <td>versicolor</td>\n",
       "    </tr>\n",
       "    <tr>\n",
       "      <th>95</th>\n",
       "      <td>5.7</td>\n",
       "      <td>3.0</td>\n",
       "      <td>4.2</td>\n",
       "      <td>1.2</td>\n",
       "      <td>versicolor</td>\n",
       "    </tr>\n",
       "    <tr>\n",
       "      <th>96</th>\n",
       "      <td>5.7</td>\n",
       "      <td>2.9</td>\n",
       "      <td>4.2</td>\n",
       "      <td>1.3</td>\n",
       "      <td>versicolor</td>\n",
       "    </tr>\n",
       "    <tr>\n",
       "      <th>97</th>\n",
       "      <td>6.2</td>\n",
       "      <td>2.9</td>\n",
       "      <td>4.3</td>\n",
       "      <td>1.3</td>\n",
       "      <td>versicolor</td>\n",
       "    </tr>\n",
       "    <tr>\n",
       "      <th>98</th>\n",
       "      <td>5.1</td>\n",
       "      <td>2.5</td>\n",
       "      <td>3.0</td>\n",
       "      <td>1.1</td>\n",
       "      <td>versicolor</td>\n",
       "    </tr>\n",
       "    <tr>\n",
       "      <th>99</th>\n",
       "      <td>5.7</td>\n",
       "      <td>2.8</td>\n",
       "      <td>4.1</td>\n",
       "      <td>1.3</td>\n",
       "      <td>versicolor</td>\n",
       "    </tr>\n",
       "  </tbody>\n",
       "</table>\n",
       "</div>"
      ],
      "text/plain": [
       "    sepal_length  sepal_width  petal_length  petal_width     species\n",
       "50           7.0          3.2           4.7          1.4  versicolor\n",
       "51           6.4          3.2           4.5          1.5  versicolor\n",
       "52           6.9          3.1           4.9          1.5  versicolor\n",
       "53           5.5          2.3           4.0          1.3  versicolor\n",
       "54           6.5          2.8           4.6          1.5  versicolor\n",
       "55           5.7          2.8           4.5          1.3  versicolor\n",
       "56           6.3          3.3           4.7          1.6  versicolor\n",
       "57           4.9          2.4           3.3          1.0  versicolor\n",
       "58           6.6          2.9           4.6          1.3  versicolor\n",
       "59           5.2          2.7           3.9          1.4  versicolor\n",
       "60           5.0          2.0           3.5          1.0  versicolor\n",
       "61           5.9          3.0           4.2          1.5  versicolor\n",
       "62           6.0          2.2           4.0          1.0  versicolor\n",
       "63           6.1          2.9           4.7          1.4  versicolor\n",
       "64           5.6          2.9           3.6          1.3  versicolor\n",
       "65           6.7          3.1           4.4          1.4  versicolor\n",
       "66           5.6          3.0           4.5          1.5  versicolor\n",
       "67           5.8          2.7           4.1          1.0  versicolor\n",
       "68           6.2          2.2           4.5          1.5  versicolor\n",
       "69           5.6          2.5           3.9          1.1  versicolor\n",
       "70           5.9          3.2           4.8          1.8  versicolor\n",
       "71           6.1          2.8           4.0          1.3  versicolor\n",
       "72           6.3          2.5           4.9          1.5  versicolor\n",
       "73           6.1          2.8           4.7          1.2  versicolor\n",
       "74           6.4          2.9           4.3          1.3  versicolor\n",
       "75           6.6          3.0           4.4          1.4  versicolor\n",
       "76           6.8          2.8           4.8          1.4  versicolor\n",
       "77           6.7          3.0           5.0          1.7  versicolor\n",
       "78           6.0          2.9           4.5          1.5  versicolor\n",
       "79           5.7          2.6           3.5          1.0  versicolor\n",
       "80           5.5          2.4           3.8          1.1  versicolor\n",
       "81           5.5          2.4           3.7          1.0  versicolor\n",
       "82           5.8          2.7           3.9          1.2  versicolor\n",
       "83           6.0          2.7           5.1          1.6  versicolor\n",
       "84           5.4          3.0           4.5          1.5  versicolor\n",
       "85           6.0          3.4           4.5          1.6  versicolor\n",
       "86           6.7          3.1           4.7          1.5  versicolor\n",
       "87           6.3          2.3           4.4          1.3  versicolor\n",
       "88           5.6          3.0           4.1          1.3  versicolor\n",
       "89           5.5          2.5           4.0          1.3  versicolor\n",
       "90           5.5          2.6           4.4          1.2  versicolor\n",
       "91           6.1          3.0           4.6          1.4  versicolor\n",
       "92           5.8          2.6           4.0          1.2  versicolor\n",
       "93           5.0          2.3           3.3          1.0  versicolor\n",
       "94           5.6          2.7           4.2          1.3  versicolor\n",
       "95           5.7          3.0           4.2          1.2  versicolor\n",
       "96           5.7          2.9           4.2          1.3  versicolor\n",
       "97           6.2          2.9           4.3          1.3  versicolor\n",
       "98           5.1          2.5           3.0          1.1  versicolor\n",
       "99           5.7          2.8           4.1          1.3  versicolor"
      ]
     },
     "execution_count": 30,
     "metadata": {},
     "output_type": "execute_result"
    }
   ],
   "source": [
    "setosa\n",
    "versicolor"
   ]
  },
  {
   "cell_type": "markdown",
   "metadata": {},
   "source": [
    "To extract a column, we can either use `iris[column_name]` or `iris.iloc[:,column_index]`."
   ]
  },
  {
   "cell_type": "code",
   "execution_count": 31,
   "metadata": {},
   "outputs": [
    {
     "name": "stdout",
     "output_type": "stream",
     "text": [
      "First column:\n"
     ]
    },
    {
     "data": {
      "text/html": [
       "<div>\n",
       "<style scoped>\n",
       "    .dataframe tbody tr th:only-of-type {\n",
       "        vertical-align: middle;\n",
       "    }\n",
       "\n",
       "    .dataframe tbody tr th {\n",
       "        vertical-align: top;\n",
       "    }\n",
       "\n",
       "    .dataframe thead th {\n",
       "        text-align: right;\n",
       "    }\n",
       "</style>\n",
       "<table border=\"1\" class=\"dataframe\">\n",
       "  <thead>\n",
       "    <tr style=\"text-align: right;\">\n",
       "      <th></th>\n",
       "      <th>sepal_length</th>\n",
       "    </tr>\n",
       "  </thead>\n",
       "  <tbody>\n",
       "    <tr>\n",
       "      <th>0</th>\n",
       "      <td>5.1</td>\n",
       "    </tr>\n",
       "    <tr>\n",
       "      <th>1</th>\n",
       "      <td>4.9</td>\n",
       "    </tr>\n",
       "    <tr>\n",
       "      <th>2</th>\n",
       "      <td>4.7</td>\n",
       "    </tr>\n",
       "    <tr>\n",
       "      <th>3</th>\n",
       "      <td>4.6</td>\n",
       "    </tr>\n",
       "    <tr>\n",
       "      <th>4</th>\n",
       "      <td>5.0</td>\n",
       "    </tr>\n",
       "  </tbody>\n",
       "</table>\n",
       "</div>"
      ],
      "text/plain": [
       "   sepal_length\n",
       "0           5.1\n",
       "1           4.9\n",
       "2           4.7\n",
       "3           4.6\n",
       "4           5.0"
      ]
     },
     "metadata": {},
     "output_type": "display_data"
    },
    {
     "name": "stdout",
     "output_type": "stream",
     "text": [
      "First through third columns:\n"
     ]
    },
    {
     "data": {
      "text/html": [
       "<div>\n",
       "<style scoped>\n",
       "    .dataframe tbody tr th:only-of-type {\n",
       "        vertical-align: middle;\n",
       "    }\n",
       "\n",
       "    .dataframe tbody tr th {\n",
       "        vertical-align: top;\n",
       "    }\n",
       "\n",
       "    .dataframe thead th {\n",
       "        text-align: right;\n",
       "    }\n",
       "</style>\n",
       "<table border=\"1\" class=\"dataframe\">\n",
       "  <thead>\n",
       "    <tr style=\"text-align: right;\">\n",
       "      <th></th>\n",
       "      <th>sepal_length</th>\n",
       "      <th>sepal_width</th>\n",
       "      <th>petal_length</th>\n",
       "    </tr>\n",
       "  </thead>\n",
       "  <tbody>\n",
       "    <tr>\n",
       "      <th>0</th>\n",
       "      <td>5.1</td>\n",
       "      <td>3.5</td>\n",
       "      <td>1.4</td>\n",
       "    </tr>\n",
       "    <tr>\n",
       "      <th>1</th>\n",
       "      <td>4.9</td>\n",
       "      <td>3.0</td>\n",
       "      <td>1.4</td>\n",
       "    </tr>\n",
       "    <tr>\n",
       "      <th>2</th>\n",
       "      <td>4.7</td>\n",
       "      <td>3.2</td>\n",
       "      <td>1.3</td>\n",
       "    </tr>\n",
       "    <tr>\n",
       "      <th>3</th>\n",
       "      <td>4.6</td>\n",
       "      <td>3.1</td>\n",
       "      <td>1.5</td>\n",
       "    </tr>\n",
       "    <tr>\n",
       "      <th>4</th>\n",
       "      <td>5.0</td>\n",
       "      <td>3.6</td>\n",
       "      <td>1.4</td>\n",
       "    </tr>\n",
       "  </tbody>\n",
       "</table>\n",
       "</div>"
      ],
      "text/plain": [
       "   sepal_length  sepal_width  petal_length\n",
       "0           5.1          3.5           1.4\n",
       "1           4.9          3.0           1.4\n",
       "2           4.7          3.2           1.3\n",
       "3           4.6          3.1           1.5\n",
       "4           5.0          3.6           1.4"
      ]
     },
     "metadata": {},
     "output_type": "display_data"
    },
    {
     "name": "stdout",
     "output_type": "stream",
     "text": [
      "Species column:\n"
     ]
    },
    {
     "data": {
      "text/html": [
       "<div>\n",
       "<style scoped>\n",
       "    .dataframe tbody tr th:only-of-type {\n",
       "        vertical-align: middle;\n",
       "    }\n",
       "\n",
       "    .dataframe tbody tr th {\n",
       "        vertical-align: top;\n",
       "    }\n",
       "\n",
       "    .dataframe thead th {\n",
       "        text-align: right;\n",
       "    }\n",
       "</style>\n",
       "<table border=\"1\" class=\"dataframe\">\n",
       "  <thead>\n",
       "    <tr style=\"text-align: right;\">\n",
       "      <th></th>\n",
       "      <th>species</th>\n",
       "    </tr>\n",
       "  </thead>\n",
       "  <tbody>\n",
       "    <tr>\n",
       "      <th>0</th>\n",
       "      <td>setosa</td>\n",
       "    </tr>\n",
       "    <tr>\n",
       "      <th>1</th>\n",
       "      <td>setosa</td>\n",
       "    </tr>\n",
       "    <tr>\n",
       "      <th>2</th>\n",
       "      <td>setosa</td>\n",
       "    </tr>\n",
       "    <tr>\n",
       "      <th>3</th>\n",
       "      <td>setosa</td>\n",
       "    </tr>\n",
       "    <tr>\n",
       "      <th>4</th>\n",
       "      <td>setosa</td>\n",
       "    </tr>\n",
       "  </tbody>\n",
       "</table>\n",
       "</div>"
      ],
      "text/plain": [
       "  species\n",
       "0  setosa\n",
       "1  setosa\n",
       "2  setosa\n",
       "3  setosa\n",
       "4  setosa"
      ]
     },
     "metadata": {},
     "output_type": "display_data"
    },
    {
     "name": "stdout",
     "output_type": "stream",
     "text": [
      "All columns *except* species:\n"
     ]
    },
    {
     "data": {
      "text/html": [
       "<div>\n",
       "<style scoped>\n",
       "    .dataframe tbody tr th:only-of-type {\n",
       "        vertical-align: middle;\n",
       "    }\n",
       "\n",
       "    .dataframe tbody tr th {\n",
       "        vertical-align: top;\n",
       "    }\n",
       "\n",
       "    .dataframe thead th {\n",
       "        text-align: right;\n",
       "    }\n",
       "</style>\n",
       "<table border=\"1\" class=\"dataframe\">\n",
       "  <thead>\n",
       "    <tr style=\"text-align: right;\">\n",
       "      <th></th>\n",
       "      <th>sepal_length</th>\n",
       "      <th>sepal_width</th>\n",
       "      <th>petal_length</th>\n",
       "      <th>petal_width</th>\n",
       "    </tr>\n",
       "  </thead>\n",
       "  <tbody>\n",
       "    <tr>\n",
       "      <th>0</th>\n",
       "      <td>5.1</td>\n",
       "      <td>3.5</td>\n",
       "      <td>1.4</td>\n",
       "      <td>0.2</td>\n",
       "    </tr>\n",
       "    <tr>\n",
       "      <th>1</th>\n",
       "      <td>4.9</td>\n",
       "      <td>3.0</td>\n",
       "      <td>1.4</td>\n",
       "      <td>0.2</td>\n",
       "    </tr>\n",
       "    <tr>\n",
       "      <th>2</th>\n",
       "      <td>4.7</td>\n",
       "      <td>3.2</td>\n",
       "      <td>1.3</td>\n",
       "      <td>0.2</td>\n",
       "    </tr>\n",
       "    <tr>\n",
       "      <th>3</th>\n",
       "      <td>4.6</td>\n",
       "      <td>3.1</td>\n",
       "      <td>1.5</td>\n",
       "      <td>0.2</td>\n",
       "    </tr>\n",
       "    <tr>\n",
       "      <th>4</th>\n",
       "      <td>5.0</td>\n",
       "      <td>3.6</td>\n",
       "      <td>1.4</td>\n",
       "      <td>0.2</td>\n",
       "    </tr>\n",
       "  </tbody>\n",
       "</table>\n",
       "</div>"
      ],
      "text/plain": [
       "   sepal_length  sepal_width  petal_length  petal_width\n",
       "0           5.1          3.5           1.4          0.2\n",
       "1           4.9          3.0           1.4          0.2\n",
       "2           4.7          3.2           1.3          0.2\n",
       "3           4.6          3.1           1.5          0.2\n",
       "4           5.0          3.6           1.4          0.2"
      ]
     },
     "metadata": {},
     "output_type": "display_data"
    }
   ],
   "source": [
    "\"\"\"\n",
    "Get the first column.\n",
    "\n",
    "Note: whenever we extract a single column of a pandas DataFrame,\n",
    "we get back a pandas Series object. To turn it back into a DataFrame,\n",
    "we add the line `first_column = pd.DataFrame(first_column)`.\n",
    "\"\"\"\n",
    "first_column = iris.iloc[:,0]\n",
    "first_column = pd.DataFrame(first_column)\n",
    "\n",
    "print('First column:')\n",
    "display(first_column.head())\n",
    "\n",
    "\"\"\"\n",
    "Get the first through third columns\n",
    "\"\"\"\n",
    "first_through_third_columns = iris.iloc[:,0:3]\n",
    "\n",
    "print('First through third columns:')\n",
    "display(first_through_third_columns.head())\n",
    "\n",
    "\"\"\"\n",
    "Get the 'species' column.\n",
    "\"\"\"\n",
    "species = iris['species']\n",
    "species = pd.DataFrame(species)\n",
    "\n",
    "print('Species column:')\n",
    "display(species.head())\n",
    "\n",
    "\"\"\"\n",
    "Get all columns *except* the species column\n",
    "\"\"\"\n",
    "all_but_species = iris.iloc[:, iris.columns != 'species']\n",
    "\n",
    "print(\"All columns *except* species:\")\n",
    "display(all_but_species.head())"
   ]
  },
  {
   "cell_type": "markdown",
   "metadata": {},
   "source": [
    "If you want to create your own pandas `DataFrame`, you have to specify the names of the columns and the items in the rows of the `DataFrame`."
   ]
  },
  {
   "cell_type": "code",
   "execution_count": 32,
   "metadata": {},
   "outputs": [
    {
     "data": {
      "text/html": [
       "<div>\n",
       "<style scoped>\n",
       "    .dataframe tbody tr th:only-of-type {\n",
       "        vertical-align: middle;\n",
       "    }\n",
       "\n",
       "    .dataframe tbody tr th {\n",
       "        vertical-align: top;\n",
       "    }\n",
       "\n",
       "    .dataframe thead th {\n",
       "        text-align: right;\n",
       "    }\n",
       "</style>\n",
       "<table border=\"1\" class=\"dataframe\">\n",
       "  <thead>\n",
       "    <tr style=\"text-align: right;\">\n",
       "      <th></th>\n",
       "      <th>A</th>\n",
       "      <th>B</th>\n",
       "    </tr>\n",
       "  </thead>\n",
       "  <tbody>\n",
       "    <tr>\n",
       "      <th>0</th>\n",
       "      <td>1</td>\n",
       "      <td>2</td>\n",
       "    </tr>\n",
       "    <tr>\n",
       "      <th>1</th>\n",
       "      <td>4</td>\n",
       "      <td>5</td>\n",
       "    </tr>\n",
       "    <tr>\n",
       "      <th>2</th>\n",
       "      <td>7</td>\n",
       "      <td>8</td>\n",
       "    </tr>\n",
       "  </tbody>\n",
       "</table>\n",
       "</div>"
      ],
      "text/plain": [
       "   A  B\n",
       "0  1  2\n",
       "1  4  5\n",
       "2  7  8"
      ]
     },
     "execution_count": 32,
     "metadata": {},
     "output_type": "execute_result"
    }
   ],
   "source": [
    "column_labels = ['A', 'B']\n",
    "\n",
    "column_entries = [\n",
    "    [1, 2],\n",
    "    [4, 5],\n",
    "    [7, 8]\n",
    "]\n",
    "\n",
    "pd.DataFrame(column_entries, columns=column_labels)"
   ]
  },
  {
   "cell_type": "markdown",
   "metadata": {},
   "source": [
    "## Introduction to NumPy\n",
    "[NumPy](https://www.numpy.org/) is another Python package providing useful data structures and mathematical functions. NumPy's fundamental data type is the array, `numpy.ndarray`, which is like a stripped-down version of a pandas `DataFrame`. However, the `numpy.ndarray` supports much faster operations, which makes it a lot more practical for scientific computing than, say, Python's list objects."
   ]
  },
  {
   "cell_type": "code",
   "execution_count": 33,
   "metadata": {},
   "outputs": [],
   "source": [
    "import numpy as np\n",
    "\n",
    "# 1. Create an array with the numbers [1, 2, 3]\n",
    "x = np.array([1, 2, 3])\n",
    "\n",
    "# 2. Create a 2 x 2 matrix with [1, 2] in the first row and [3, 4]\n",
    "#    in the second row.\n",
    "x = np.array( [[1,2], [3,4]] )\n",
    "\n",
    "# 3. Create an array with the numbers 0, 1, ... , 9. Equivalent to\n",
    "#    calling np.array(range(10))\n",
    "x = np.arange(10)\n",
    "\n",
    "# 4. Create a 2 x 2 matrix with zeros in all entries\n",
    "x = np.zeros( (2,2) )\n",
    "\n",
    "# 5. Get the total number of items in the matrix, and the shape of\n",
    "#    the matrix.\n",
    "num_items    = x.size\n",
    "matrix_shape = x.shape"
   ]
  },
  {
   "cell_type": "code",
   "execution_count": 34,
   "metadata": {},
   "outputs": [
    {
     "name": "stdout",
     "output_type": "stream",
     "text": [
      "4\n",
      "(2, 2)\n"
     ]
    }
   ],
   "source": [
    "print(num_items)\n",
    "print(matrix_shape)"
   ]
  },
  {
   "cell_type": "markdown",
   "metadata": {},
   "source": [
    "Besides just providing data structures, though, NumPy provides many mathematical utilities as well."
   ]
  },
  {
   "cell_type": "code",
   "execution_count": 36,
   "metadata": {},
   "outputs": [
    {
     "name": "stdout",
     "output_type": "stream",
     "text": [
      "π      = 3.141593\n",
      "e      = 2.718282\n",
      "\n",
      "sin(0) = 0.000000\n",
      "cos(0) = 1.000000\n",
      "e^1    = 2.718282\n",
      "ln(1)  = 0.000000\n",
      "\n",
      "Min of [1,2,3] = 1\n",
      "Max of [1,2,3] = 3\n",
      "Sum of [1,2,3] = 6\n",
      "\n",
      "Random numbers:\n",
      "Uniform([0,1]): 0.478528\n",
      "Normal(0,1):    0.374637\n",
      "Poisson(1):     0.000000\n"
     ]
    }
   ],
   "source": [
    "### Constants: π, e\n",
    "print('π      = %f' % np.pi)\n",
    "print('e      = %f' % np.e)\n",
    "print()\n",
    "\n",
    "### Simple functions: sine, cosine, e^x, log, ...\n",
    "print('sin(0) = %f' % np.sin(0))\n",
    "print('cos(0) = %f' % np.cos(0))\n",
    "print('e^1    = %f' % np.exp(1))\n",
    "print('ln(1)  = %f' % np.log(1))\n",
    "print()\n",
    "\n",
    "### Minimums, maximums, sums...\n",
    "x = np.array([1,2,3])\n",
    "print('Min of [1,2,3] = %d' % x.min())\n",
    "print('Max of [1,2,3] = %d' % x.max())\n",
    "print('Sum of [1,2,3] = %d' % x.sum())\n",
    "print()\n",
    "\n",
    "### Random numbers: uniform distribution, normal distribution, ...\n",
    "print('Random numbers:')\n",
    "print('Uniform([0,1]): %f' % np.random.uniform(0,1))\n",
    "print('Normal(0,1):    %f' % np.random.normal(loc=0, scale=1))\n",
    "print('Poisson(1):     %f' % np.random.poisson(1))"
   ]
  },
  {
   "cell_type": "code",
   "execution_count": 35,
   "metadata": {},
   "outputs": [
    {
     "data": {
      "text/plain": [
       "3.141592653589793"
      ]
     },
     "execution_count": 35,
     "metadata": {},
     "output_type": "execute_result"
    }
   ],
   "source": [
    "np.pi"
   ]
  },
  {
   "cell_type": "markdown",
   "metadata": {},
   "source": [
    "NumPy is primarily used to do large-scale operations on arrays of numbers. Because it has C code running behind the scenes, it can do these computations extremely quickly -- much faster than you could do with regular Python code. Among other things, with NumPy you can\n",
    "\n",
    "* add a number to every element of an array;\n",
    "* multiply every element of an array by a number;\n",
    "* add or multiply two arrays together; or\n",
    "* calculate a matrix-vector or matrix-matrix product between arrays."
   ]
  },
  {
   "cell_type": "code",
   "execution_count": 37,
   "metadata": {},
   "outputs": [
    {
     "name": "stdout",
     "output_type": "stream",
     "text": [
      "1 + [1,2,3] = [2 3 4]\n",
      "3 * [1,2,3] = [3 6 9]\n",
      "[1,2,3] * [4,5,6] = [ 4 10 18]\n",
      "[1,2,3] + [4,5,6] = [5 7 9]\n",
      "Dot product of [1,2,3] and [4,5,6] = 32\n"
     ]
    }
   ],
   "source": [
    "x = np.array([1,2,3])\n",
    "y = np.array([4,5,6])\n",
    "\n",
    "print('1 + [1,2,3] =', 1 + x)\n",
    "print('3 * [1,2,3] =', 3 * x)\n",
    "print('[1,2,3] * [4,5,6] =', x * y)\n",
    "print('[1,2,3] + [4,5,6] =', x + y)\n",
    "print('Dot product of [1,2,3] and [4,5,6] =', x.dot(y))"
   ]
  },
  {
   "cell_type": "markdown",
   "metadata": {},
   "source": [
    "## Visualizing data with matplotlib <a id=\"plotting\"></a>\n",
    "Python has a *massive* number of libraries that can be used for data visualization; [this article](https://www.anaconda.com/blog/developer-blog/python-data-visualization-2018-why-so-many-libraries/) gives a high-level overview of many of them. Each of them has their own advantages:\n",
    "\n",
    "- [matplotlib](https://matplotlib.org/) is beginner-friendly and flexible.\n",
    "- [seaborn](https://seaborn.pydata.org/) works very well with pandas. For the most part, all you have to do is provide seaborn with a pandas `DataFrame` object, and tell it which columns you want to use for your axes.\n",
    "- [plotly](https://plot.ly/python/) focuses on creating highly interactive plots. You can use it with [Dash](https://dash.plot.ly/) to easily integrate plots into web applications.\n",
    "\n",
    "In this workshop, we'll cover matplotlib, because it's easy to learn. It's also very widely used -- if you ever look up tutorials for learning other Python data science libraries, chances are that they'll be using matplotlib to visualize data."
   ]
  },
  {
   "cell_type": "code",
   "execution_count": 38,
   "metadata": {},
   "outputs": [],
   "source": [
    "import matplotlib.pyplot as plt"
   ]
  },
  {
   "cell_type": "markdown",
   "metadata": {},
   "source": [
    "Creating a scatter plot with matplotlib is fairly straightforward: just call `plt.scatter` with your $x$ data and your $y$ data."
   ]
  },
  {
   "cell_type": "code",
   "execution_count": 39,
   "metadata": {},
   "outputs": [
    {
     "data": {
      "image/png": "[encoded data removed]",
      "text/plain": [
       "<Figure size 432x288 with 1 Axes>"
      ]
     },
     "metadata": {
      "needs_background": "light"
     },
     "output_type": "display_data"
    }
   ],
   "source": [
    "setosa = iris.query('species == \"setosa\"')\n",
    "x = setosa['sepal_length']\n",
    "y = setosa['sepal_width']\n",
    "plt.scatter(x,y)\n",
    "plt.show()"
   ]
  },
  {
   "cell_type": "markdown",
   "metadata": {},
   "source": [
    "Use `plt.xlabel` and `plt.ylabel` to label the $x$- and $y$-axes. Add the `fontdict` keyword argument to change font parameters."
   ]
  },
  {
   "cell_type": "code",
   "execution_count": 40,
   "metadata": {},
   "outputs": [
    {
     "data": {
      "image/png": "[encoded data removed]",
      "text/plain": [
       "<Figure size 432x288 with 1 Axes>"
      ]
     },
     "metadata": {
      "needs_background": "light"
     },
     "output_type": "display_data"
    }
   ],
   "source": [
    "plt.xlabel(\"sepal_length\", fontdict={\"fontsize\": 16})\n",
    "plt.ylabel(\"sepal_width\", fontdict={\"fontsize\": 16})\n",
    "plt.scatter(x,y)\n",
    "plt.show()"
   ]
  },
  {
   "cell_type": "markdown",
   "metadata": {},
   "source": [
    "You can specify the plot size by creating a `Figure` object with `plt.figure()`."
   ]
  },
  {
   "cell_type": "code",
   "execution_count": 42,
   "metadata": {},
   "outputs": [
    {
     "data": {
      "image/png": "[encoded data removed]",
      "text/plain": [
       "<Figure size 720x720 with 1 Axes>"
      ]
     },
     "metadata": {
      "needs_background": "light"
     },
     "output_type": "display_data"
    }
   ],
   "source": [
    "fig = plt.figure(figsize=(10,10))\n",
    "plt.scatter(x,y)\n",
    "plt.xlabel(\"sepal_length\", fontdict={\"fontsize\": 24})\n",
    "plt.ylabel(\"sepal_width\", fontdict={\"fontsize\": 24})\n",
    "plt.savefig('fig.png')"
   ]
  },
  {
   "cell_type": "markdown",
   "metadata": {},
   "source": [
    "If you want to create multiple plots at once, you can use `plt.subplots`. In the example below, we create a $2\\times 2$ panel of plots, each with a slightly different styling."
   ]
  },
  {
   "cell_type": "code",
   "execution_count": 43,
   "metadata": {},
   "outputs": [
    {
     "data": {
      "image/png": "[encoded data removed]",
      "text/plain": [
       "<Figure size 864x864 with 4 Axes>"
      ]
     },
     "metadata": {
      "needs_background": "light"
     },
     "output_type": "display_data"
    }
   ],
   "source": [
    "fig, axes = plt.subplots(2,2,figsize=(12, 12))\n",
    "axes[0,0].set_title(\"Original scatter plot\")\n",
    "axes[0,0].scatter(x,y)\n",
    "\n",
    "axes[0,1].set_title(\"Scatter plot with red markers\")\n",
    "axes[0,1].scatter(x,y,color=\"red\")\n",
    "\n",
    "axes[1,0].set_title(\"Scatter plot with X markers\")\n",
    "axes[1,0].scatter(x,y,marker=\"x\")\n",
    "\n",
    "axes[1,1].set_title(\"Scatter plot with red X markers\")\n",
    "axes[1,1].scatter(x,y,marker=\"x\",color=\"red\")\n",
    "plt.show()"
   ]
  },
  {
   "cell_type": "markdown",
   "metadata": {},
   "source": [
    "If you want to plot a line or curve instead of a scatter plot, call `plt.plot()` instead of `plt.scatter()`."
   ]
  },
  {
   "cell_type": "code",
   "execution_count": 44,
   "metadata": {},
   "outputs": [
    {
     "data": {
      "image/png": "[encoded data removed]",
      "text/plain": [
       "<Figure size 720x432 with 1 Axes>"
      ]
     },
     "metadata": {
      "needs_background": "light"
     },
     "output_type": "display_data"
    }
   ],
   "source": [
    "# Plot a sine curve\n",
    "# x is a numpy array of 100 equispaced numbers in the range [0,2π]\n",
    "fig = plt.figure(figsize=(10,6))\n",
    "x = np.linspace(0, 2*np.pi, num=50)\n",
    "y = np.sin(x)\n",
    "plt.plot(x,y)\n",
    "plt.show()"
   ]
  },
  {
   "cell_type": "markdown",
   "metadata": {},
   "source": [
    "You can place both a scatter plot and a continuous curve on the same axes by calling both `plot.scatter()` and `plt.plot()`."
   ]
  },
  {
   "cell_type": "code",
   "execution_count": 46,
   "metadata": {
    "scrolled": true
   },
   "outputs": [
    {
     "data": {
      "text/plain": [
       "array([0.        , 0.12822827, 0.25645654, 0.38468481, 0.51291309,\n",
       "       0.64114136, 0.76936963, 0.8975979 , 1.02582617, 1.15405444,\n",
       "       1.28228272, 1.41051099, 1.53873926, 1.66696753, 1.7951958 ,\n",
       "       1.92342407, 2.05165235, 2.17988062, 2.30810889, 2.43633716,\n",
       "       2.56456543, 2.6927937 , 2.82102197, 2.94925025, 3.07747852,\n",
       "       3.20570679, 3.33393506, 3.46216333, 3.5903916 , 3.71861988,\n",
       "       3.84684815, 3.97507642, 4.10330469, 4.23153296, 4.35976123,\n",
       "       4.48798951, 4.61621778, 4.74444605, 4.87267432, 5.00090259,\n",
       "       5.12913086, 5.25735913, 5.38558741, 5.51381568, 5.64204395,\n",
       "       5.77027222, 5.89850049, 6.02672876, 6.15495704, 6.28318531])"
      ]
     },
     "execution_count": 46,
     "metadata": {},
     "output_type": "execute_result"
    }
   ],
   "source": [
    "x"
   ]
  },
  {
   "cell_type": "code",
   "execution_count": 45,
   "metadata": {},
   "outputs": [
    {
     "data": {
      "image/png": "[encoded data removed]",
      "text/plain": [
       "<Figure size 720x432 with 1 Axes>"
      ]
     },
     "metadata": {
      "needs_background": "light"
     },
     "output_type": "display_data"
    }
   ],
   "source": [
    "fig = plt.figure(figsize=(10,6))\n",
    "x = np.linspace(0, 2*np.pi, num=50)\n",
    "y = np.sin(x)\n",
    "plt.plot(x,y)\n",
    "plt.scatter(x,y)\n",
    "plt.show()"
   ]
  },
  {
   "cell_type": "markdown",
   "metadata": {},
   "source": [
    "Whenever you call `plt.plot(x,y)`, matplotlib creates small line between every consecutive $(x,y)$ pair. This means that you need to make sure that your $x$ and $y$ data are sorted in the order you want them to be in before you call `plt.plot(x,y)`.\n",
    "\n",
    "The code below generates two plots to demonstrate this idea. The plot on the left shows a regular sine curve. The plot on the right uses exactly the same data, except that the $x$ data has been randomly shuffled so that it is no longer in ascending order."
   ]
  },
  {
   "cell_type": "code",
   "execution_count": 47,
   "metadata": {},
   "outputs": [
    {
     "data": {
      "image/png": "[encoded data removed]",
      "text/plain": [
       "<Figure size 864x432 with 2 Axes>"
      ]
     },
     "metadata": {
      "needs_background": "light"
     },
     "output_type": "display_data"
    }
   ],
   "source": [
    "x = np.linspace(0, 2*np.pi, num=50)\n",
    "\n",
    "fig, axes = plt.subplots(1, 2, figsize=(12,6))\n",
    "axes[0].plot(x, np.sin(x))\n",
    "\n",
    "np.random.shuffle(x)\n",
    "axes[1].plot(x, np.sin(x))\n",
    "\n",
    "plt.show()"
   ]
  },
  {
   "cell_type": "markdown",
   "metadata": {},
   "source": [
    "**Exercise**: create three scatter plots of petal length vs petal width, one for each of the three iris species. You can do this either by creating three subplots, or by putting all three scatter plots on the same axes."
   ]
  },
  {
   "cell_type": "code",
   "execution_count": 48,
   "metadata": {},
   "outputs": [],
   "source": [
    "setosa = iris.query('species == \"setosa\"')\n",
    "versicolor = iris.query('species == \"versicolor\"')\n",
    "virginica = iris.query('species == \"virginica\"')"
   ]
  },
  {
   "cell_type": "code",
   "execution_count": 51,
   "metadata": {
    "scrolled": true
   },
   "outputs": [
    {
     "data": {
      "text/html": [
       "<div>\n",
       "<style scoped>\n",
       "    .dataframe tbody tr th:only-of-type {\n",
       "        vertical-align: middle;\n",
       "    }\n",
       "\n",
       "    .dataframe tbody tr th {\n",
       "        vertical-align: top;\n",
       "    }\n",
       "\n",
       "    .dataframe thead th {\n",
       "        text-align: right;\n",
       "    }\n",
       "</style>\n",
       "<table border=\"1\" class=\"dataframe\">\n",
       "  <thead>\n",
       "    <tr style=\"text-align: right;\">\n",
       "      <th></th>\n",
       "      <th>sepal_length</th>\n",
       "      <th>sepal_width</th>\n",
       "      <th>petal_length</th>\n",
       "      <th>petal_width</th>\n",
       "      <th>species</th>\n",
       "    </tr>\n",
       "  </thead>\n",
       "  <tbody>\n",
       "    <tr>\n",
       "      <th>0</th>\n",
       "      <td>5.1</td>\n",
       "      <td>3.5</td>\n",
       "      <td>1.4</td>\n",
       "      <td>0.2</td>\n",
       "      <td>setosa</td>\n",
       "    </tr>\n",
       "    <tr>\n",
       "      <th>1</th>\n",
       "      <td>4.9</td>\n",
       "      <td>3.0</td>\n",
       "      <td>1.4</td>\n",
       "      <td>0.2</td>\n",
       "      <td>setosa</td>\n",
       "    </tr>\n",
       "    <tr>\n",
       "      <th>2</th>\n",
       "      <td>4.7</td>\n",
       "      <td>3.2</td>\n",
       "      <td>1.3</td>\n",
       "      <td>0.2</td>\n",
       "      <td>setosa</td>\n",
       "    </tr>\n",
       "    <tr>\n",
       "      <th>3</th>\n",
       "      <td>4.6</td>\n",
       "      <td>3.1</td>\n",
       "      <td>1.5</td>\n",
       "      <td>0.2</td>\n",
       "      <td>setosa</td>\n",
       "    </tr>\n",
       "    <tr>\n",
       "      <th>4</th>\n",
       "      <td>5.0</td>\n",
       "      <td>3.6</td>\n",
       "      <td>1.4</td>\n",
       "      <td>0.2</td>\n",
       "      <td>setosa</td>\n",
       "    </tr>\n",
       "  </tbody>\n",
       "</table>\n",
       "</div>"
      ],
      "text/plain": [
       "   sepal_length  sepal_width  petal_length  petal_width species\n",
       "0           5.1          3.5           1.4          0.2  setosa\n",
       "1           4.9          3.0           1.4          0.2  setosa\n",
       "2           4.7          3.2           1.3          0.2  setosa\n",
       "3           4.6          3.1           1.5          0.2  setosa\n",
       "4           5.0          3.6           1.4          0.2  setosa"
      ]
     },
     "metadata": {},
     "output_type": "display_data"
    }
   ],
   "source": [
    "display(setosa.head())"
   ]
  },
  {
   "cell_type": "code",
   "execution_count": 55,
   "metadata": {},
   "outputs": [
    {
     "data": {
      "image/png": "[encoded data removed]",
      "text/plain": [
       "<Figure size 1080x360 with 3 Axes>"
      ]
     },
     "metadata": {
      "needs_background": "light"
     },
     "output_type": "display_data"
    }
   ],
   "source": [
    "# Put your code here!\n",
    "# Here's a little snippet to help you get started (feel free\n",
    "# to remove it, if you want)\n",
    "\n",
    "\n",
    "fig, axes = plt.subplots(1,3,figsize=(15, 5))\n",
    "axes[0].set_title(\"Setosa scatter plot\")\n",
    "axes[0].scatter(setosa.sepal_length,setosa.sepal_width)\n",
    "\n",
    "axes[1].set_title(\"Versicolor scatter plot\")\n",
    "axes[1].scatter(versicolor.sepal_length, versicolor.sepal_width,color=\"red\")\n",
    "\n",
    "axes[2].set_title(\"Virginica scatter plot\")\n",
    "axes[2].scatter(virginica.sepal_length, virginica.sepal_width,marker=\"x\")\n",
    "\n",
    "plt.show()"
   ]
  },
  {
   "cell_type": "markdown",
   "metadata": {},
   "source": [
    "# Linear regression with scikit-learn and statsmodels\n",
    "In the last section of the notebook, we're going to use linear regression to try and predict the petal length of each iris from its sepal length, sepal width, and petal width.\n",
    "\n",
    "Before we even start using linear regression, let's look at how each of these variables are related to one another. Below we plot each pair of variables against the others, with the color of the points reflecting which species we're looking at. On the diagonal are box-and-whisker plots that tell us a little about how each of the variables is distributed."
   ]
  },
  {
   "cell_type": "code",
   "execution_count": 56,
   "metadata": {},
   "outputs": [
    {
     "data": {
      "text/plain": [
       "<seaborn.axisgrid.PairGrid at 0x1b980318a88>"
      ]
     },
     "execution_count": 56,
     "metadata": {},
     "output_type": "execute_result"
    },
    {
     "data": {
      "image/png": "[encoded data removed]",
      "text/plain": [
       "<Figure size 804.75x720 with 20 Axes>"
      ]
     },
     "metadata": {
      "needs_background": "light"
     },
     "output_type": "display_data"
    }
   ],
   "source": [
    "sns.pairplot(iris, hue=\"species\")"
   ]
  },
  {
   "cell_type": "markdown",
   "metadata": {},
   "source": [
    "The most important conclusion we can draw from these plots is that each pair of variables is roughly linearly related. As a result, we can expect that we should be able to accurately predict petal length from the other three variables using linear regression.\n",
    "\n",
    "If you just want to do a basic regression and get the coefficients for each variable, you can use `LinearRegression` from the scikit-learn library:"
   ]
  },
  {
   "cell_type": "code",
   "execution_count": 57,
   "metadata": {},
   "outputs": [
    {
     "name": "stdout",
     "output_type": "stream",
     "text": [
      "Coefficient for sepal_length:  +0.116\n",
      "Coefficient for sepal_width:   -0.029\n",
      "Coefficient for petal_width:   +0.463\n"
     ]
    }
   ],
   "source": [
    "from sklearn.linear_model import LinearRegression\n",
    "\n",
    "\"\"\"\n",
    "Get all of the irises of the species \"setosa\" and place them in\n",
    "a pandas DataFrame called `data`.\n",
    "\n",
    "Also try with 'setosa' replaced by 'versicolor' and 'virginica'\n",
    "\"\"\"\n",
    "data = iris[iris['species'] == 'setosa']\n",
    "    \n",
    "\"\"\"\n",
    "Split the data into two pieces: the independent variables\n",
    "(sepal_length, sepal_width, and petal_width), and the dependent\n",
    "variable (petal_length).\n",
    "\"\"\"\n",
    "x = data[['sepal_length','sepal_width','petal_width']]\n",
    "y = data['petal_length']\n",
    "\n",
    "\"\"\"\n",
    "Create a scikit-learn LinearRegression object which we will\n",
    "fit to the data.\n",
    "\"\"\"\n",
    "lm = LinearRegression()\n",
    "lm.fit(x,y)\n",
    "\n",
    "for (coef,col) in zip(lm.coef_, x.columns):\n",
    "    print(\"%-30s %+.3f\" % (\"Coefficient for \" + col + \":\", coef))"
   ]
  },
  {
   "cell_type": "code",
   "execution_count": 63,
   "metadata": {},
   "outputs": [
    {
     "data": {
      "text/plain": [
       "0.8654673105153718"
      ]
     },
     "execution_count": 63,
     "metadata": {},
     "output_type": "execute_result"
    }
   ],
   "source": [
    "lm.intercept_"
   ]
  },
  {
   "cell_type": "markdown",
   "metadata": {},
   "source": [
    "However, when we run a linear regression we also want to find out other things about our linear model. For instance, we might want to get a confidence interval for each coefficient in the model. The [StatsModels library](https://www.statsmodels.org/stable/index.html) gives us this functionality with `statsmodel.api.sm`:"
   ]
  },
  {
   "cell_type": "code",
   "execution_count": 64,
   "metadata": {},
   "outputs": [
    {
     "name": "stdout",
     "output_type": "stream",
     "text": [
      "                            OLS Regression Results                            \n",
      "==============================================================================\n",
      "Dep. Variable:           petal_length   R-squared:                       0.145\n",
      "Model:                            OLS   Adj. R-squared:                  0.089\n",
      "Method:                 Least Squares   F-statistic:                     2.598\n",
      "Date:                Mon, 30 Mar 2020   Prob (F-statistic):             0.0636\n",
      "Time:                        18:08:34   Log-Likelihood:                 21.003\n",
      "No. Observations:                  50   AIC:                            -34.01\n",
      "Df Residuals:                      46   BIC:                            -26.36\n",
      "Df Model:                           3                                         \n",
      "Covariance Type:            nonrobust                                         \n",
      "================================================================================\n",
      "                   coef    std err          t      P>|t|      [0.025      0.975]\n",
      "--------------------------------------------------------------------------------\n",
      "const            0.8655      0.343      2.521      0.015       0.174       1.557\n",
      "sepal_length     0.1161      0.102      1.142      0.259      -0.089       0.321\n",
      "sepal_width     -0.0287      0.093     -0.307      0.760      -0.217       0.159\n",
      "petal_width      0.4625      0.234      1.976      0.054      -0.009       0.934\n",
      "==============================================================================\n",
      "Omnibus:                        3.292   Durbin-Watson:                   1.653\n",
      "Prob(Omnibus):                  0.193   Jarque-Bera (JB):                2.558\n",
      "Skew:                           0.238   Prob(JB):                        0.278\n",
      "Kurtosis:                       4.001   Cond. No.                         93.4\n",
      "==============================================================================\n",
      "\n",
      "Warnings:\n",
      "[1] Standard Errors assume that the covariance matrix of the errors is correctly specified.\n"
     ]
    }
   ],
   "source": [
    "import statsmodels.api as sm\n",
    "\n",
    "# Also try with 'setosa' replaced by 'versicolor' and 'virginica'\n",
    "data = iris[iris['species'] == 'setosa']\n",
    "\n",
    "x = data[['sepal_length','sepal_width','petal_width']]\n",
    "y = data['petal_length']\n",
    "    \n",
    "\"\"\"\n",
    "Add y-intercept term to our linear model\n",
    "\"\"\"\n",
    "x = sm.add_constant(x)\n",
    "    \n",
    "\"\"\"\n",
    "Perform linear regression\n",
    "\"\"\"\n",
    "lm      = sm.OLS(y,x)\n",
    "results = lm.fit()\n",
    "\n",
    "\"\"\"\n",
    "Print the results\n",
    "\"\"\"\n",
    "print(results.summary())"
   ]
  },
  {
   "cell_type": "markdown",
   "metadata": {},
   "source": [
    "You can also use R-style formulas to specify what variables you want to use to perform linear regression. "
   ]
  },
  {
   "cell_type": "code",
   "execution_count": 65,
   "metadata": {},
   "outputs": [
    {
     "name": "stdout",
     "output_type": "stream",
     "text": [
      "Results (petal_length ~ sepal_width + sepal_length + petal_width)\n",
      "                            OLS Regression Results                            \n",
      "==============================================================================\n",
      "Dep. Variable:           petal_length   R-squared:                       0.145\n",
      "Model:                            OLS   Adj. R-squared:                  0.089\n",
      "Method:                 Least Squares   F-statistic:                     2.598\n",
      "Date:                Mon, 30 Mar 2020   Prob (F-statistic):             0.0636\n",
      "Time:                        18:10:04   Log-Likelihood:                 21.003\n",
      "No. Observations:                  50   AIC:                            -34.01\n",
      "Df Residuals:                      46   BIC:                            -26.36\n",
      "Df Model:                           3                                         \n",
      "Covariance Type:            nonrobust                                         \n",
      "================================================================================\n",
      "                   coef    std err          t      P>|t|      [0.025      0.975]\n",
      "--------------------------------------------------------------------------------\n",
      "Intercept        0.8655      0.343      2.521      0.015       0.174       1.557\n",
      "sepal_width     -0.0287      0.093     -0.307      0.760      -0.217       0.159\n",
      "sepal_length     0.1161      0.102      1.142      0.259      -0.089       0.321\n",
      "petal_width      0.4625      0.234      1.976      0.054      -0.009       0.934\n",
      "==============================================================================\n",
      "Omnibus:                        3.292   Durbin-Watson:                   1.653\n",
      "Prob(Omnibus):                  0.193   Jarque-Bera (JB):                2.558\n",
      "Skew:                           0.238   Prob(JB):                        0.278\n",
      "Kurtosis:                       4.001   Cond. No.                         93.4\n",
      "==============================================================================\n",
      "\n",
      "Warnings:\n",
      "[1] Standard Errors assume that the covariance matrix of the errors is correctly specified.\n",
      "--------------------------------------------------------------------------------\n",
      "Results (petal_length ~ sepal_length + petal_width)\n",
      "                            OLS Regression Results                            \n",
      "==============================================================================\n",
      "Dep. Variable:           petal_length   R-squared:                       0.143\n",
      "Model:                            OLS   Adj. R-squared:                  0.107\n",
      "Method:                 Least Squares   F-statistic:                     3.926\n",
      "Date:                Mon, 30 Mar 2020   Prob (F-statistic):             0.0265\n",
      "Time:                        18:10:04   Log-Likelihood:                 20.952\n",
      "No. Observations:                  50   AIC:                            -35.90\n",
      "Df Residuals:                      47   BIC:                            -30.17\n",
      "Df Model:                           2                                         \n",
      "Covariance Type:            nonrobust                                         \n",
      "================================================================================\n",
      "                   coef    std err          t      P>|t|      [0.025      0.975]\n",
      "--------------------------------------------------------------------------------\n",
      "Intercept        0.8813      0.336      2.622      0.012       0.205       1.558\n",
      "sepal_length     0.0934      0.069      1.349      0.184      -0.046       0.233\n",
      "petal_width      0.4596      0.232      1.984      0.053      -0.006       0.926\n",
      "==============================================================================\n",
      "Omnibus:                        3.071   Durbin-Watson:                   1.640\n",
      "Prob(Omnibus):                  0.215   Jarque-Bera (JB):                2.360\n",
      "Skew:                           0.193   Prob(JB):                        0.307\n",
      "Kurtosis:                       3.992   Cond. No.                         76.2\n",
      "==============================================================================\n",
      "\n",
      "Warnings:\n",
      "[1] Standard Errors assume that the covariance matrix of the errors is correctly specified.\n"
     ]
    }
   ],
   "source": [
    "import statsmodels.formula.api as smf\n",
    "\n",
    "df = iris[iris['species'] == 'setosa']\n",
    "\n",
    "# Predict petal length from sepal_width, sepal_length, and petal_width\n",
    "model = smf.ols(formula='petal_length ~ sepal_width + sepal_length + petal_width',\n",
    "                data=df)\n",
    "results = model.fit()\n",
    "\n",
    "print(\"Results (petal_length ~ sepal_width + sepal_length + petal_width)\")\n",
    "print(results.summary())\n",
    "print('-' * 80)\n",
    "\n",
    "# Predict petal length from just sepal_length and petal_width\n",
    "model = smf.ols(formula='petal_length ~ sepal_length + petal_width',\n",
    "                data=df)\n",
    "results = model.fit()\n",
    "\n",
    "print(\"Results (petal_length ~ sepal_length + petal_width)\")\n",
    "print(results.summary())"
   ]
  },
  {
   "cell_type": "markdown",
   "metadata": {},
   "source": [
    "## Additional References <a id=\"additional-references\"></a>\n",
    "\n",
    "* O'Reilly provides a couple of good books that go in-depth about these tools and more:\n",
    "  * [Python Data Science Handbook](http://shop.oreilly.com/product/0636920034919.do)\n",
    "  * [Python for Data Analysis](http://shop.oreilly.com/product/0636920023784.do) -- this book was published in 2012 and may be slightly dated. However, the author provides some Jupyter Notebooks for free in [this repository](https://github.com/wesm/pydata-book) that you may find helpful.\n",
    "* Check out the full documentation for Jupyter on the [Project Jupyter site](https://jupyter.org/documentation).\n",
    "* Plotting tools:\n",
    "  * Matplotlib\n",
    "    * [Documentation](https://matplotlib.org/contents.html)\n",
    "    * [Tutorials](https://matplotlib.org/tutorials/index.html)\n",
    "  * Seaborn\n",
    "    * [Documentation](https://seaborn.pydata.org/api.html)\n",
    "    * [Introduction](https://seaborn.pydata.org/introduction.html)\n",
    "  * Plotly\n",
    "    * [Documentation](https://plot.ly/python/reference/)\n",
    "    * [Examples](https://plot.ly/python/)\n",
    "* [Statsmodels documentation](https://www.statsmodels.org/stable/index.html)"
   ]
  }
 ],
 "metadata": {
  "kernelspec": {
   "display_name": "Python 3",
   "language": "python",
   "name": "python3"
  },
  "language_info": {
   "codemirror_mode": {
    "name": "ipython",
    "version": 3
   },
   "file_extension": ".py",
   "mimetype": "text/x-python",
   "name": "python",
   "nbconvert_exporter": "python",
   "pygments_lexer": "ipython3",
   "version": "3.7.6"
  },
  "widgets": {
   "application/vnd.jupyter.widget-state+json": {
    "state": {
     "021d4561ade94a2fbdf2c694f7fe0b33": {
      "model_module": "@jupyter-widgets/base",
      "model_module_version": "1.1.0",
      "model_name": "LayoutModel",
      "state": {}
     },
     "10456d53e511450793826a92c07a701b": {
      "model_module": "@jupyter-widgets/base",
      "model_module_version": "1.1.0",
      "model_name": "LayoutModel",
      "state": {}
     },
     "26ff6533c9d94147966296ff35c3f94f": {
      "model_module": "@jupyter-widgets/controls",
      "model_module_version": "1.4.0",
      "model_name": "TabModel",
      "state": {
       "_titles": {
        "0": "Linear regression",
        "1": "Normal distribution"
       },
       "children": [
        "IPY_MODEL_e81b36d5419342d6ab2fc56374435169",
        "IPY_MODEL_b098cc86fd704090a2642485bb1a6426"
       ],
       "layout": "IPY_MODEL_e7044ec771ee490f805af1be692fff27"
      }
     },
     "3b4536af84934c57bd8c40e47706eca1": {
      "model_module": "@jupyter-widgets/output",
      "model_module_version": "1.0.0",
      "model_name": "OutputModel",
      "state": {
       "layout": "IPY_MODEL_b2b93319d8a349d8bb568e76b779e6a4",
       "outputs": [
        {
         "data": {
          "image/png": "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\n",
          "text/plain": "<Figure size 432x288 with 1 Axes>"
         },
         "metadata": {
          "needs_background": "light"
         },
         "output_type": "display_data"
        }
       ]
      }
     },
     "412ce1fa1ede40bbb8daf60249bca34a": {
      "model_module": "@jupyter-widgets/base",
      "model_module_version": "1.1.0",
      "model_name": "LayoutModel",
      "state": {}
     },
     "48f1679bd3ec411eae716dd1dec7486a": {
      "model_module": "@jupyter-widgets/base",
      "model_module_version": "1.1.0",
      "model_name": "LayoutModel",
      "state": {}
     },
     "52b6c41fb846423d841a13dd0e779b56": {
      "model_module": "@jupyter-widgets/output",
      "model_module_version": "1.0.0",
      "model_name": "OutputModel",
      "state": {
       "layout": "IPY_MODEL_7f6231acc2b14b5fa66ee3bba66a8394",
       "outputs": [
        {
         "data": {
          "image/png": "iVBORw0KGgoAAAANSUhEUgAAAX0AAAD8CAYAAACb4nSYAAAABHNCSVQICAgIfAhkiAAAAAlwSFlzAAALEgAACxIB0t1+/AAAADl0RVh0U29mdHdhcmUAbWF0cGxvdGxpYiB2ZXJzaW9uIDMuMC4yLCBodHRwOi8vbWF0cGxvdGxpYi5vcmcvOIA7rQAAIABJREFUeJzt3Xt4VfWZ//33nXPIAQhJgJxIgCCEgxwCiArUM1gFxPO5U6syo5e2Pr9ptZ1Hp3Q6v47OY+10rBWrHa0HRNCKFWVAQFFBEiCAnEI4JiGQkJCQkHNyP39kY2MEsiE7Wftwv64rl3uvvVbyiVfyYWWt7/5+RVUxxhgTGIKcDmCMMabnWOkbY0wAsdI3xpgAYqVvjDEBxErfGGMCiJW+McYEECt9Y4wJIFb6xhgTQKz0jTEmgIQ4HaCj+Ph4TU9PdzqGMcb4lI0bNx5T1YTO9vO60k9PTyc3N9fpGMYY41NE5KA7+9nlHWOMCSBW+sYYE0Cs9I0xJoBY6RtjTABxq/RFZIaI7BaRAhF5/Cz73SgiKiLZ7bY94Tput4hc44nQxhhjzk+no3dEJBh4HrgKKAJyRGSpqu7osF8M8CjwVbttWcBtwEggCVgpIsNUtcVz34Ixxhh3uXOmPwkoUNV9qtoILARmn2a/XwH/AdS32zYbWKiqDaq6HyhwfT5jjDEOcGecfjJQ2O55ETC5/Q4iMh5IVdUPReSfOxy7vsOxyeeZ1Zge19Dcwpd7y8k7VMmppUUjwoKZPiyBrIGxiIjDCY05N11+c5aIBAHPAj/owud4AHgAIC0trauRjOmyrUWVvPz5flbtLKW6oRmAU/2uCk9/vJvUuEiuHTWQB6cPIS4qzMG0xrjPndIvBlLbPU9xbTslBhgFrHGd9QwAlorILDeOBUBVFwALALKzs22lduOY2sZm/r//zefPX+wnNjKUa0cPZMaoAVw8tB/hIcEAlNc0sHLnUT7++ggvf76fRbmFPHl9FnPGJtuZv/F6cupP1jPuIBIC5ANX0FbYOcAdqrr9DPuvAf6PquaKyEjgTdqu4ycBnwCZZ7uRm52drTYNg3FCzoEKfvJ2HkXH67jrojR+OmM4sRGhZz0m/2g1P1uylc2HKpk2LIFnb7mQ+OjwHkpszN+JyEZVze5sv05v5KpqM/AwsBzYCSxS1e0iMt91Nn+2Y7cDi4AdwMfAQzZyx3ijVbuOctefviI0OIh35k3h3+aM7rTwAYb1j2HxvIuZP3skG/aXc8uL6yipquuBxMacn07P9Huanembnva3rYf58cI8RgyM5dUfTjrv6/M5Byr44Z9ziI0M5c37JzOoX5SHkxpzZh470zfGn727qYhH3trM+LS+vHn/5C7dkJ2YHsdbD1xEbWMzN/1xHXvLajyY1BjPsNI3ASv3QAU/W7KViwb349UfTiLGjcs5nRmV3JtFD06hpVW5/7VcTtQ3eSCpMZ5jpW8C0pGqeua9vonkPpG8cOcEIsOCPfa5M/vH8Ic7x3OovJYfL8yjtdW7LqGawGalbwJOfVMLD/4ll7rGZhbck03vXl0/w+/oosH9ePL6LFbtKuXZFfke//zGnC8rfRNwfvnBdrYUVfHbW8cyrH9Mt32duy8axK3Zqfz36gJW7DjabV/HmHNhpW8Cyprdpby1oZB504dw9cgB3fq1RIT5c0aSNTCWJ97dRmVtY7d+PWPcYaVvAsaJ+iaeeHcbmYnR/OSqzB75muEhwfznzRdSWdvILz/Y0fkBxnQzK30TMP7vsp0cPVHPMzdf+M2UCj0hKymWf7psKO9tLuaTnXaZxzjLSt8EhM/3HOOtDYXcP3UwY1P79PjXf/iyoQwfEMPP39tGVa0N4zTOsdI3fq+huYWfv7eNwfFR/OSqYY5kCAsJ4pmbLuRYTSNPL9/lSAZjwErfBIA/f3GAQxW1/HL2SCJCe+6yTkejU3pz1+Q03tpwiN1Hqh3LYQKblb7xa8dqGnh+VQGXD09kamaC03H48ZXDiA4P4dfLdjodxQQoK33j1367Ip+6phZ+fu0Ip6MA0DcqjEeuyOSz/DJW7y51Oo4JQFb6xm/tPlLNWxsOcddFgxiaGO10nG/cMyWdjPgofv3hTppaWp2OYwKMlb7xW79etpOYiFAevaJnxuS7KywkiCdmDqegtIaFGw45HccEGCt945dyDlTwWX4ZD102hL5euH7tVVn9mZQRx+9XFVDfZOsKmZ7jVumLyAwR2S0iBSLy+Glenyci20QkT0Q+F5Es1/Z0Ealzbc8TkT96+hsw5nSeW5lPfHQYd1+U7nSU0xIRfnLlMEqrG3jLzvZND+q09EUkGHgemAlkAbefKvV23lTV0ao6FngaeLbda3tVdazrY56nghtzJhv2V/BFQTnzpg/x6JTJnjZlSD8mZ8Txwpq9drZveow7Z/qTgAJV3aeqjcBCYHb7HVT1RLunUYBNIG4c87tP8omPDufOyYOcjtKpH7vO9t/8ys72Tc9wp/STgcJ2z4tc275FRB4Skb20nek/0u6lDBHZLCKfisjU030BEXlARHJFJLesrOwc4hvzbX8/yx/s1Wf5p0wZ0o+LBsfxwqd2tm96hsdu5Krq86o6BPgZ8C+uzSVAmqqOAx4D3hSR2NMcu0BVs1U1OyHB+TfQGN/lS2f5pzx6xTDKqht4w872TQ9wp/SLgdR2z1Nc285kITAHQFUbVLXc9XgjsBdwZvIT4/e2FFbyRUE5D07zjbP8U6YM6cekjDj+tHafjds33c6d0s8BMkUkQ0TCgNuApe13EJH2A6G/D+xxbU9w3QhGRAYDmcA+TwQ3pqMFa/cRExHC7ZPTnI5yzuZNH0xJVT1/23rY6SjGz3Va+qraDDwMLAd2AotUdbuIzBeRWa7dHhaR7SKSR9tlnHtd26cBW13bFwPzVLXC49+FCXiHymv5aFsJd04eRHR4iNNxztn3hiWSmRjNgs/2o2rjIEz3ceu3Q1WXAcs6bHuy3eNHz3DcEmBJVwIa445XvthPcJDwD5ekOx3lvAQFCfdPHcxPl2zl84JjXjE5nPFP9o5c4/OOn2zk7ZxCZo9Npn9shNNxztvscUkkxoSz4DO7Amq6j5W+8Xmvrz9IXVML908d7HSULgkPCeYHl6Szds8xdhw+0fkBxpwHK33j0xqaW3h13QG+d0ECFwyIcTpOl905aRC9woL501o72zfdw0rf+LQPt5ZwrKaR+y7NcDqKR/TuFcot2an8bWsJZdUNTscxfshK3/i0V9cdZHBCFJcOjXc6isfcPWUQjS2tvJ1jb9Yynmelb3xWXmElWworuXdKOiLidByPGZIQzdTMeF5ff4hme7OW8TArfeOzXlt3gKiwYOaO/85UUD7v3inpHDlRz4odR52OYvyMlb7xSeU1DfxtSwk3TkghJiLU6Tged9nwRFL6RvLqugNORzF+xkrf+KSFOYU0trRyzxTfmVjtXAQHCXdfNIj1+yrYfaTa6TjGj1jpG5/T3NLKG+sPcunQeIYm+v4wzTO5JTuV8JAgO9s3HmWlb3zO6t1lHK6q566L/PMs/5S+UWHMujCJv24upqah2ek4xk9Y6Ruf89aGQyTGhHPFiESno3S7OyanUdvYwtI8m33TeIaVvvEpxZV1rNldyi3ZqYQG+/+P79jUPgwfEGOLpxuP8f/fGuNXFuUUosCtE1M73dcfiAh3TE5jW3EV24qqnI5j/ICVvvEZzS2tLMotZGpmAqlxvZyO02Nmj00mIjSIt+wdusYDrPSNz/g0v4ySqnrumBQYZ/mn9I4M5boxSby/uZiTdkPXdJFbpS8iM0Rkt4gUiMjjp3l9nohsE5E8EflcRLLavfaE67jdInKNJ8ObwPLWhkPER4dzxYj+TkfpcbdPSuNkYwsfbLEbuqZrOi191xq3zwMzgSzg9val7vKmqo5W1bHA08CzrmOzaFtTdyQwA/jDqTVzjTkXR6rqWbWrlFuyUwLiBm5H49P6cEF/u6Frus6d355JQIGq7lPVRmAhMLv9DqrafsWHKODUIp+zgYWq2qCq+4EC1+cz5pws2VREqwbODdyORIRbJ6aypaiKXUdsgRVz/twp/WSgsN3zIte2bxGRh0RkL21n+o+c47EPiEiuiOSWlZW5m90ECFXlndxCJmfEMahflNNxHDNnXDKhwcI7uUVORzE+zGN/J6vq86o6BPgZ8C/neOwCVc1W1eyEBFsQ2nxbzoHjHCiv5ZbswDzLPyUuKoyrsvrz183FNDbblMvm/LhT+sVA+9+2FNe2M1kIzDnPY435jkW5hUSHhzBz9ACnozju5gmplJ9sZNWuUqejGB/lTunnAJkikiEiYbTdmF3afgcRyWz39PvAHtfjpcBtIhIuIhlAJrCh67FNoKhpaObDrSVcf+FAeoWFOB3HcVMz4+kfG847uYWd72zMaXT6W6SqzSLyMLAcCAZeUdXtIjIfyFXVpcDDInIl0AQcB+51HbtdRBYBO4Bm4CFVbemm78X4oQ+3HqauqYWbA/zSzikhwUHcOD6FP366l6Mn6ukfG+F0JONjRFU736sHZWdna25urtMxjJe48YUvqaxtZOVj0/1qScSu2H/sJJf95xp+NmM4//i9IU7HMV5CRDaqanZn+wXegGfjM/aW1bDx4HFuyU61wm8nIz6Kiel9eWdjId520ma8n5W+8VpLNhYRHCTcMM7/1sDtqpsnpLKv7CSbCyudjmJ8jJW+8Uotrcp7m4uZlhlPol23/o6ZowcQERrEko02Zt+cGyt945XW7S2npKqeueNTnI7ilWIiQrlm5AA+2HKY+iYbG2HcZ6VvvNKSTUXERIRwVVbgTa7mrhvHp3CivplPdtqYfeM+K33jdWoamvn46yNcNyaJiFCbn+9MLhkaz4DYCJZssks8xn1W+sbrLNtWQl1TCzdNsBu4ZxMcJMwZl8yn+WWUVTc4Hcf4CCt943WWbCwiIz6K8Wl9nY7i9W6akExLq/J+ns1uYtxjpW+8SmFFLV/tr2DuuGQbm++GoYkxXJjSm8U2ise4yUrfeJX3Nredsd4w3i7tuOvGCSnsOlLNjsM2z77pnJW+8RqqbWPzJ2fEkdI3cBY+76rrxiQREiS8t9nO9k3nrPSN18grrGT/sZPMtbP8cxIXFcb3Lkjk/bzDtLTatAzm7Kz0jdd4b3Mx4SFBzBw90OkoPufG8cmUVjfwRcExp6MYL2elb7xCY3MrH2w5zFVZ/YmNCHU6js+5fEQisREh39wTMeZMrPSNV1izu5TjtU12aec8hYcE8/0xSXz89RFONjQ7Hcd4MbdKX0RmiMhuESkQkcdP8/pjIrJDRLaKyCciMqjday0ikuf6WNrxWGOg7dJOv6gwpmbaGsnna+74ZOqaWvj46yNORzFerNPSF5Fg4HlgJpAF3C4iWR122wxkq+oYYDHwdLvX6lR1rOtjlodyGz9SVdvEJztLmTU2idBg++PzfGUP6ktqXKRd4jFn5c5v2CSgQFX3qWojbQufz26/g6quVtVa19P1tC2AboxbPtxWQmNLK3PH2Y9NV4gIN4xL4Yu9xzhSVe90HOOl3Cn9ZKD9KsxFrm1nch/wUbvnESKSKyLrRWTOeWQ0fu69zUUMTYxmVHKs01F83g3jklHFpmUwZ+TRv6VF5C4gG3im3eZBrnUb7wCeE5HvLOopIg+4/mHILSsr82Qk4+UKK2rJOXCcG2zaBY/IiI9ibGofu8Rjzsid0i8GUts9T3Ft+xYRuRL4BTBLVb+Z8k9Vi13/3QesAcZ1PFZVF6hqtqpmJyTYjbxA8ldXOc0em+RwEv8xd3wyu45Us7PEpmUw3+VO6ecAmSKSISJhwG3At0bhiMg44EXaCr+03fa+IhLuehwPXALs8FR449ts2oXu8fdpGexs33xXp6Wvqs3Aw8ByYCewSFW3i8h8ETk1GucZIBp4p8PQzBFArohsAVYDv1FVK30DwNaiKvYdO2kLn3tY27QMCbyfV2zTMpjvCHFnJ1VdBizrsO3Jdo+vPMNxXwKjuxLQ+K/3NhcTZtMudIsbxqWwcmcp6/aWc2lmvNNxjBexQdHGEU0tbdMuXDkikd6RNu2Cp10xIpGYcJuWwXyXlb5xxNo9ZZSfbOQGG5vfLSJCg7l29EA+/rqE2kablsH8nZW+ccS7m4rp0yuU6cNstFZ3uWF8MicbW1ix46jTUYwXsdI3Pe5EfRMrdhzl+jFJhIXYj2B3mZQeR3KfSN7dZJd4zN/Zb5zpcR9vO0JDc6stidjNgoKE2WOTWLunjNJqm5bBtLHSNz3u3c1FZMRHMS61j9NR/N7c8cm0KizNO+x0FOMlrPRNjyqurGP9vgrmjLVpF3rC0MQYRif3tlE85htW+qZHnZp2wd6Q1XNuGJfM9sMnyD9a7XQU4wWs9E2POTXtQvagvqT1s2kXesqssUkEB4nd0DWAlb7pQV8Xn6CgtMZu4Paw+OhwpmXG835eMa02LUPAs9I3PebdzUWEBQdx3WibUbOn3TA+hZKqetbvK3c6inGYlb7pEU0trSzNO8wVIxLp3cumXehpV2f1JyY8hCV2iSfgWembHvFZftu0C3PH27QLTjg1LcNHNi1DwLPSNz3i3U3FxEWF2bQLDpo7PpnaxhaWbz/idBTjICt90+2qaptYsfMosy60aRecNDE9jtQ4m5Yh0NlvoOl2H24robG5lRvt0o6jgoKEG8al8HnBMY5U2bQMgcqt0heRGSKyW0QKROTx07z+mIjsEJGtIvKJiAxq99q9IrLH9XGvJ8Mb37BkUxGZidGMSo51OkrAmzsuGVXsHboBrNPSF5Fg4HlgJpAF3C4iWR122wxkq+oYYDHwtOvYOOApYDIwCXhKRPp6Lr7xdgeOnWTjwePMHZ9i0y54gfT4KCYM6su7m4pQtTH7gcidM/1JQIGq7lPVRmAhMLv9Dqq6WlVrXU/XA6f+jr8GWKGqFap6HFgBzPBMdOML3t1cjAjMGWdj873F3PHJ7CmtYVtxldNRjAPcKf1koLDd8yLXtjO5D/joPI81fqS1VVmysYhLhsQzsHek03GMy3WudQyWbCxyOopxgEdv5IrIXUA28Mw5HveAiOSKSG5ZWZknIxkHrd9fTnFlHTdn2w1cb9I7MpSrs/rz/pbDNDS3OB3H9DB3Sr8YSG33PMW17VtE5ErgF8AsVW04l2NVdYGqZqtqdkKCjeP2F4s3FhETHsI1Iwc4HcV0cHN2KpW1TazaWep0FNPD3Cn9HCBTRDJEJAy4DVjafgcRGQe8SFvht/8pWg5cLSJ9XTdwr3ZtM36upqGZj7Yd4boLk4gIDXY6jung0qHx9I8NZ7Fd4gk4nZa+qjYDD9NW1juBRaq6XUTmi8gs127PANHAOyKSJyJLXcdWAL+i7R+OHGC+a5vxc8u2lVDX1MJNE+zSjjcKDhLmjk9hTb4tpRhoQtzZSVWXAcs6bHuy3eMrz3LsK8Ar5xvQ+KbFuUUMjo9ifJotieitbhyfwgtr9vLXzcU8MG2I03FMD7F35BqPO3DsJBsOVHDjBBub782GJkYzLq0PizfamP1AYqVvPO7dTUUESdt4cOPdbpqQQv7RGrYW2Zj9QGGlbzyqpVVZvLGIS4ba2HxfcN2YJMJDgnhnY2HnOxu/YKVvPGrtnjIOV9Vz28Q0p6MYN/SODOXa0QN5f/Nh6hptzH4gsNI3HrUot5C+vUK5MivR6SjGTbdkp1Ld0MxHX5c4HcX0ACt94zHlNQ2s2HGUG8alEB5iY/N9xUWD4xjUrxdv59glnkBgpW885r3NxTS1KLdOTO18Z+M1RIRbslP5an8FB46ddDqO6WZW+sYjVJVFuYWMTe3DBQNinI5jztFNE1IIkrbLc8a/Wekbj8grrCT/aI2d5fuo/rERXHZBIos3FtHc0up0HNONrPSNR7ydU0hkaDDXjRnodBRznm6ZmEppdQNrdttMt/7MSt90WU1DMx9sOcx1YwYSExHqdBxzni4fnkhCTDgLcw45HcV0Iyt902V/3VzMycYW7phsY/N9WWhwELdkp7BqVymHK+ucjmO6iZW+6RJV5c2vDjFiYCxjU21yNV9328Q0FFhowzf9lpW+6ZItRVXsKDnBHZPTbHI1P5Aa14tpmQm8nXPIbuj6KSt90yVvfnWQXmHBzBlrC5/7izsmp3H0RAOrdtmqWv7ISt+ctxP1TXywpYRZFybZDVw/csXwRPrHhvPmBruh64/cKn0RmSEiu0WkQEQeP83r00Rkk4g0i8hNHV5rca2m9c2KWsY//HVzMXVNdgPX34QEB3Frdiqf5pdRWFHrdBzjYZ2WvogEA88DM4Es4HYRyeqw2yHgB8Cbp/kUdao61vUx6zSvGx906gbuqORYxqTYDVx/c+ukNARs+KYfcudMfxJQoKr7VLURWAjMbr+Dqh5Q1a2A3fkJEBv2V7DrSDV3TR7kdBTTDZL7RHL58P4s3FBIQ7NNuexP3Cn9ZKD9+K0i1zZ3RYhIroisF5E555TOeK3X1h2kd2Qos8fa6lj+6t6LB1F+spFl22zKZX/SEzdyB6lqNnAH8JyIfGcFZhF5wPUPQ25Zmb0F3Nsdqarn4+1HuHViKpFhNoWyv7pkSDyDE6J49cuDTkcxHuRO6RcD7WfRSnFtc4uqFrv+uw9YA4w7zT4LVDVbVbMTEhLc/dTGIW9+dZBWVbu04+eCgoR7LhpEXmElWwornY5jPMSd0s8BMkUkQ0TCgNsAt0bhiEhfEQl3PY4HLgF2nG9Y47yG5hbe3HCIyy9IJK1fL6fjmG5244QUosKCeW2dne37i05LX1WbgYeB5cBOYJGqbheR+SIyC0BEJopIEXAz8KKIbHcdPgLIFZEtwGrgN6pqpe/DPv76CMdqGrnn4nSno5geEBMRytzxKXyw9TDlNQ1OxzEeEOLOTqq6DFjWYduT7R7n0HbZp+NxXwKju5jReJFXvzxARnwUU4fGOx3F9JB7pgziL+sPsjCnkIcuG+p0HNNF9o5c47bNh46z6VAl90wZRFCQzbMTKDL7x3DJ0H68tu4Ajc02KtvXWekbt738+X5iIkK4OdtWxwo0P7p0MEdPNNjwTT9gpW/cUnS8lo++PsIdk9KIDnfrqqDxI9OHJTAkIYo/fb4PVXU6jukCK33jlle/PADAvXYDNyAFBQn3XTqYr4tP8NX+CqfjmC6w0jedqq5vYuGGQq4dPZCkPpFOxzEOmTs+mb69QvnT2v1ORzFdYKVvOrUot4jqhmbuuzTD6SjGQRGhwdx10SA+2XWUfWU1Tscx58lK35xVc0srf/5iPxPT+9pyiIa7pwwiNCiIV76ws31fZaVvzurDbSUUHa/jR1MHOx3FeIHEmAjmjEvindwiyqrtzVq+yErfnJGq8sKavWQmRnPViP5OxzFe4sHpQ2h0/QVofI+VvjmjVbtK2XWkmnnTh9ibscw3hiREM3PUAP6y7iAn6pucjmPOkZW+OS1V5Q9r9pLcJ5JZtui56eCfvjeU6oZmXl9vE7H5Git9c1ob9lew8eBxHpw+mNBg+zEx3zYquTdTM+N55fP91DfZylq+xH6bzWn9Yc1e4qPDuMWmXDBn8NBlQzlW08g7uYWd72y8hpW++Y6tRZV8ml/GP1ySQUSorYxlTm9yRhzj0/rwx0/32URsPsRK33zHb1fk06dXqE25YM5KRHj0ymEUV9axyM72fYaVvvmWTYeOs3p3GQ9MG2wTq5lOTcuMZ8Kgvjy/uoCGZru27wvcKn0RmSEiu0WkQEQeP83r00Rkk4g0i8hNHV67V0T2uD7u9VRw0z2eW7mHuKgw7p2S7nQU4wNEhJ9cOYySqnrezrGzfV/QaemLSDDwPDATyAJuF5GsDrsdAn4AvNnh2DjgKWAyMAl4SkT6dj226Q65Byr4LL+MB6cNJsrO8o2bLhnaj0npcTy/usBG8vgAd870JwEFqrpPVRuBhcDs9juo6gFV3Qp0vJtzDbBCVStU9TiwApjhgdymG/x2ZT7x0WHcPWWQ01GMDxERfnxVJkdPNPDWhkNOxzGdcKf0k4H2f7cVuba5oyvHmh705d5jfFFQzrzpQ+gVZmf55txcPCSeiwbH8fzqvZxsaHY6jjkLr7iRKyIPiEiuiOSWlZU5HSfgtLYqv/loF8l9IrnrIjvLN+fnpzOGc6ymwebb93LulH4x0P4dOimube5w61hVXaCq2aqanZCQ4OanNp7yt20lbC2q4rGrhtm4fHPexqf1ZeaoAbz42V6bgdOLuVP6OUCmiGSISBhwG7DUzc+/HLhaRPq6buBe7dpmvERDcwvPLN/FiIGxzBlnV95M1/zzNRfQ2NzK7z7JdzqKOYNOS19Vm4GHaSvrncAiVd0uIvNFZBaAiEwUkSLgZuBFEdnuOrYC+BVt/3DkAPNd24yXeGP9IQor6nhi5nCCbSZN00WDE6K5Y3Iab20oZK+truWVxNtWts/Oztbc3FynYwSEqromvvfMakYm9eb1H012Oo7xE8dqGpj+9GouzYznxbuznY4TMERko6p2+j/cK27kGmf8buUeKuuaeHzmcKejGD8SHx3OvOlDWL79KF8WHHM6junASj9A7T5SzavrDnD7pDRGJfd2Oo7xM/dPG0xqXCRPLd1OU4tNxuZNrPQDkKryr0u3ExMRwj9ffYHTcYwfiggN5snrRrKntIbX1tlCK97ESj8AfbithHX7yvl/rr6AvlFhTscxfurKEYlMH5bAcyvybQinF7HSDzC1jc38+sOdZA2M5Y5JaU7HMX5MRHjq+izqm1v4zUe7nI5jXKz0A8yz/5tPSVU982ePtCGaptsNTojmR1MHs2RTEev2ljsdx2ClH1DyCit55Yv93Dk5jez0OKfjmADxyOWZDOrXiyfe3Updo83C6TQr/QDR2NzKzxZvJTEmwoZomh4VGRbM/507mgPltTy30t6p6zQr/QDxx0/3svtoNf82ZxQxEaFOxzEB5uIh8dw2MZWX1u5ja1Gl03ECmpV+AMg/Ws3vV+3h+guTuDKrv9NxTIB64toRxEeH89PFW20hdQdZ6fu5huYWHl2YR0xEKE9d33HBM2N6Tu/IUH59w2h2Hanm2RV2mccpVvp+7j+X72ZnyQmevnEM8dHhTscxAe6qrP7cPimVFz9BcUjUAAAOIUlEQVTby5d7bYoGJ1jp+7HP9xzjpbX7ueuiNLusY7zG/3tdFhn9onjs7S1U1jY6HSfgWOn7qeMnG3lsUR5DEqL4xbV2Wcd4j15hITx321iO1TTw8/e24W0z/fo7K30/1NKq/PjtPI7XNvK728YRGWarYRnvMialD49dPYxl247wl/U2N09PstL3Q79bmc+n+WU8df1Im0HTeK1504Zw+fBE5n+wg40HbW2lnuJW6YvIDBHZLSIFIvL4aV4PF5G3Xa9/JSLpru3pIlInInmujz96Nr7paOWOo/zXqgJumpDCnZNtbh3jvYKChN/eMpakPpH84+ubKK2udzpSQOi09EUkGHgemAlkAbeLSMeLxPcBx1V1KPBb4D/avbZXVce6PuZ5KLc5jf3HTvKTRXmMSo7l3+aMQsTm1jHerXevUF68ewIn6pt4+I3NNvd+D3DnTH8SUKCq+1S1EVgIzO6wz2zgVdfjxcAVYo3ToypONvLD/8khOEh44c4JRITadXzjG0YMjOU/bhzDhgMV/Pxdu7Hb3dwp/WSgsN3zIte20+7jWki9Cujnei1DRDaLyKciMrWLec1p1De1cP9ruRRX1vHSPdmkxvVyOpIx52T22GQeuSKTdzYW8V+fFDgdx6+FdPPnLwHSVLVcRCYAfxWRkap6ov1OIvIA8ABAWppdhz4Xra3KY4vy2HjwOM/fMZ6JNnum8VE/uTKTouO1/HZlPsl9I7lpQorTkfySO2f6xUBqu+cprm2n3UdEQoDeQLmqNqhqOYCqbgT2AsM6fgFVXaCq2aqanZCQcO7fRYBSVeb/bQfLth3hF9eO4PtjBjodyZjzJiL8Zu4YLh0az+NLtrJ6V6nTkfySO6WfA2SKSIaIhAG3AUs77LMUuNf1+CZglaqqiCS4bgQjIoOBTGCfZ6IHNlXl35ft5H++PMCPLs3gR1MznI5kTJeFhQTxh7vGM3xgDA++vpHP8sucjuR3Oi191zX6h4HlwE5gkapuF5H5IjLLtdvLQD8RKQAeA04N65wGbBWRPNpu8M5TVRuQ20WqytPLd/PS2v3cO2UQv/j+CBupY/xGbEQor983mSEJ0dz/Wi5fFNgcPZ4k3nanPDs7W3Nzc52O4bVUlWeW7+YPa/Zyx+Q0fm1DM42fqjjZyO0L1nOw4iR/umcil2bGOx3Jq4nIRlXN7mw/e0euD2luaeXxJdv4w5q93D4pjX+bbYVv/FdcVBhv3D+Z9H5R/MP/bGDplsNOR/ILVvo+oq6xhXmvb+Lt3EIeuXwo/37DKIJsYXPj5+Kjw3n7wSmMS+vLI29t5s9f7Hc6ks+z0vcBR0/Uc/tL6/lk11F+NXskj119gZ3hm4DROzKU1344iWtG9ueXH+zglx9st3fudoGVvpfLPVDBdb//nPyj1bxw53junpLudCRjelxEaDB/uHMC/3BJOn/+4gB3v/wV5TUNTsfySVb6XkpVeW3dAW5/aT1RYcH89aFLmDHKxuGbwBUcJDx1/UieveVCNh+q5Prff87mQ8edjuVzrPS9UGl1Pfe9msuT729namYC7z98KcP6xzgdyxivMHd8Ckv+8WJEhJv+uI7nVubTbJd73Gal72U+/voIM55byxcFx/jX67P40z3Z9I4MdTqWMV5lVHJvlj06levHDOS5lXu48Y/r2FtW43Qsn2Dj9L1EYUUtv/xgOyt3ljIyKZbnbh1Lpp3dG9OpD7Yc5hfvbaO+qZV50wfzT5cNDchZZt0dp9/dE66ZTtQ1tvDy5/v479UFCMITM4fzw0szCA22P8KMccf1FyYxeXAc//7hTv5rVQHv5RXzL9/P4uqs/jbK7TTsTN8hjc2tvJ1byH99soey6gZmjBzAk9dnkdQn0uloxvisL/ce48n3t1NQWsO4tD789JrhTBnSr/MD/YC7Z/pW+j2strGZxRuLeGntPgor6piUHsc/z7jApkQ2xkOaW1pZvLGI332yh5KqeqYM7seD0wczfViCX5/5W+l7meLKOhZuOMRf1h+ksraJcWl9eOTyTL53gX//IBrjlPqmFl5ff5CX1u7j6IkGLugfw32XZvD9MQOJCve/K9tW+l6gvqmFT3aW8nZuIWv3tE0Re+WI/jw4bTDZdmZvTI9obG7lgy2HeWntPnYdqSYqLJhZY5O4aUIq49P6+M1Jl5W+Q2oamlmbX8aH20pYtauU2sYWknpHcFN2KjdPSLGlDI1xiKqy8eBxFuYU8uHWEuqa2n43Z44eyMxRAxib2ocQHx5AYaXfQxqbW/n6cBXr95Xz6e4yNh48TnOrEhcVxjUjB/D90QOZMqQfwTY5mjFeo7q+iRU7jrJsWwmf5R+jsaWV2IgQpmYmMDUznkkZcWTER/nUXwFW+t2gtVU5VFHLtuIqvj5cxZbCSvIKK6lvans34IiBsUwflsD0YQlMTO/r02cNxgSKE/VNrM0/xqf5pXyaX8bRE21z+sRHhzFhUF/GpPRhVHJvRiXF0i863OG0Z+bR0heRGcDvgGDgT6r6mw6vhwOvAROAcuBWVT3geu0J4D6gBXhEVZef7Ws5XfqtrUr5yUaKjtdyqKKWg+W1HDh2kj2lNRSU1lDX1AJAWHAQwwfGkD0ojonpfZmQ3pfEmAjHchtjuk5V2VtWQ86B4+QcqGDTweMcKK/95vX46DCGJEST2T+a9H5RpMX1YlC/KJL6RBAT4ew75z1W+q41bvOBq4Ai2tbMvV1Vd7Tb55+AMao6T0RuA25Q1VtFJAt4C5gEJAErgWGq2nKmr+fJ0ldV6ppaONnQQnV9Eyfqm6mub+J4bROVtY0cP9lE+ckGjtU0UFbdwNETDRypqqexwzweA2IjyOwfTWZiDMP6RzMquTfD+scQFmJn8sb4u6q6JrYfrmLH4RPsOVrDntJqCkprOFHf/K39YsJDGNA7gsTYcBKiw4mPDicuOoy+vcLo2yuU2MhQYiNC6R0ZSlR4CFHhwYQFB3nsEpIn35E7CShQ1X2uT7wQmA3saLfPbOBfXY8XA/8tbd/JbGChqjYA+11r6E4C1rn7jbir4mQjt764jrqmFuqbWqlrbKa2qYXO/pCJjQghISachJhwxqb2YeDoCJJ6R5LUJ5JB/XqR2rcXkWGB95ZuY0yb3pGhXDwknouH/H25RlWlqq6Jg+W1HKyopaSyjpKqekqq6iirbmDjoeOUVTd8c+n3TEKChF5hwUSEBhMZFszo5N789x3ju/X7caf0k4HCds+LgMln2kdVm0WkCujn2r6+w7HJHb+AiDwAPACQlpbmbvZvCQ8JYmhiNJGhwUSEBRMREkxUeHDbv6hhwcREhBIbGUJMRCh9IkPp0yuMPr1CbboDY8w5ExFXh4RxYWqfM+5X19jC8dpGjtc2cqKumRP1TZyoa+JkQzMnG1uoaWimrrGF+qYW6ppaSOnb/e/I94p3KKjqAmABtF3eOZ/PERUewgt3TfBoLmOM6YrIsGAiwyK9anoVd05zi4HUds9TXNtOu4+IhAC9abuh686xxhhjeog7pZ8DZIpIhoiEAbcBSzvssxS41/X4JmCVtt0hXgrcJiLhIpIBZAIbPBPdGGPMuer08o7rGv3DwHLahmy+oqrbRWQ+kKuqS4GXgb+4btRW0PYPA679FtF207cZeOhsI3eMMcZ0L3tzljHG+AF3h2za0BVjjAkgVvrGGBNArPSNMSaAWOkbY0wA8bobuSJSBhx0OkcH8cAxp0OcA1/K60tZwbfy+lJW8K283ph1kKomdLaT15W+NxKRXHfuinsLX8rrS1nBt/L6Ulbwrby+lLUju7xjjDEBxErfGGMCiJW+exY4HeAc+VJeX8oKvpXXl7KCb+X1pazfYtf0jTEmgNiZvjHGBBArfTeJyK9EZKuI5InI/4pIktOZzkZEnhGRXa7M74nImVd6cJiI3Cwi20WkVUS8ckSEiMwQkd0iUiAijzud52xE5BURKRWRr53O0hkRSRWR1SKyw/Uz8KjTmc5GRCJEZIOIbHHl/aXTmc6VXd5xk4jEquoJ1+NHgCxVnedwrDMSkatpm+K6WUT+A0BVf+ZwrNMSkRFAK/Ai8H9U1atm3HNnnWhvIiLTgBrgNVUd5XSesxGRgcBAVd0kIjHARmCOF/+/FSBKVWtEJBT4HHhUVdd3cqjXsDN9N50qfJcowKv/tVTV/1XVUys3r6dtARuvpKo7VXW30znO4pt1olW1ETi1TrRXUtXPaJvi3OupaomqbnI9rgZ2cpolVb2FtqlxPQ11fXh1F3RkpX8OROTXIlII3Ak86XSec/BD4COnQ/iw060T7bXF5KtEJB0YB3zlbJKzE5FgEckDSoEVqurVeTuy0m9HRFaKyNen+ZgNoKq/UNVU4A3gYWfTdp7Xtc8vaFvA5g3nkrqX1QQuEYkGlgA/7vBXtddR1RZVHUvbX8+TRMSrL6F15BULo3sLVb3SzV3fAJYBT3VjnE51lldEfgBcB1yhDt+8OYf/t97I1nruRq5r40uAN1T1XafzuEtVK0VkNTAD8Pqb5qfYmb6bRCSz3dPZwC6nsrhDRGYAPwVmqWqt03l8nDvrRJvz4Lox+jKwU1WfdTpPZ0Qk4dRIOBGJpO3mvld3QUc2esdNIrIEuIC2USYHgXmq6rVne671isOBctem9d462khEbgB+DyQAlUCeql7jbKpvE5Frgef4+zrRv3Y40hmJyFvA92ibCfIo8JSqvuxoqDMQkUuBtcA22n63AH6uqsucS3VmIjIGeJW2n4MgYJGqznc21bmx0jfGmABil3eMMSaAWOkbY0wAsdI3xpgAYqVvjDEBxErfGGMCiJW+McYEECt9Y4wJIFb6xhgTQP5/CVoQBlajsxkAAAAASUVORK5CYII=\n",
          "text/plain": "<Figure size 432x288 with 1 Axes>"
         },
         "metadata": {
          "needs_background": "light"
         },
         "output_type": "display_data"
        }
       ]
      }
     },
     "62ab73f32ea6453daccf311545f671f1": {
      "model_module": "@jupyter-widgets/output",
      "model_module_version": "1.0.0",
      "model_name": "OutputModel",
      "state": {
       "layout": "IPY_MODEL_412ce1fa1ede40bbb8daf60249bca34a",
       "outputs": [
        {
         "data": {
          "image/png": "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\n",
          "text/plain": "<Figure size 432x288 with 1 Axes>"
         },
         "metadata": {
          "needs_background": "light"
         },
         "output_type": "display_data"
        }
       ]
      }
     },
     "78c0eb40e71a41a3853b3a0f4ff2dd16": {
      "model_module": "@jupyter-widgets/base",
      "model_module_version": "1.1.0",
      "model_name": "LayoutModel",
      "state": {}
     },
     "7f6231acc2b14b5fa66ee3bba66a8394": {
      "model_module": "@jupyter-widgets/base",
      "model_module_version": "1.1.0",
      "model_name": "LayoutModel",
      "state": {}
     },
     "9ab4bad81e7147d196e9768a05db9c79": {
      "model_module": "@jupyter-widgets/output",
      "model_module_version": "1.0.0",
      "model_name": "OutputModel",
      "state": {
       "layout": "IPY_MODEL_021d4561ade94a2fbdf2c694f7fe0b33",
       "outputs": [
        {
         "data": {
          "image/png": "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\n",
          "text/plain": "<Figure size 432x288 with 1 Axes>"
         },
         "metadata": {
          "needs_background": "light"
         },
         "output_type": "display_data"
        }
       ]
      }
     },
     "a9d3f5dd3f0f4cbea9c1fc616c20f13b": {
      "model_module": "@jupyter-widgets/controls",
      "model_module_version": "1.4.0",
      "model_name": "TabModel",
      "state": {
       "_titles": {
        "0": "Linear regression",
        "1": "Normal distribution"
       },
       "children": [
        "IPY_MODEL_62ab73f32ea6453daccf311545f671f1",
        "IPY_MODEL_52b6c41fb846423d841a13dd0e779b56"
       ],
       "layout": "IPY_MODEL_78c0eb40e71a41a3853b3a0f4ff2dd16",
       "selected_index": 1
      }
     },
     "b098cc86fd704090a2642485bb1a6426": {
      "model_module": "@jupyter-widgets/output",
      "model_module_version": "1.0.0",
      "model_name": "OutputModel",
      "state": {
       "layout": "IPY_MODEL_10456d53e511450793826a92c07a701b",
       "outputs": [
        {
         "data": {
          "image/png": "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\n",
          "text/plain": "<Figure size 432x288 with 1 Axes>"
         },
         "metadata": {
          "needs_background": "light"
         },
         "output_type": "display_data"
        }
       ]
      }
     },
     "b2b93319d8a349d8bb568e76b779e6a4": {
      "model_module": "@jupyter-widgets/base",
      "model_module_version": "1.1.0",
      "model_name": "LayoutModel",
      "state": {}
     },
     "bd3cebbb7c4140a2be5eade679576538": {
      "model_module": "@jupyter-widgets/base",
      "model_module_version": "1.1.0",
      "model_name": "LayoutModel",
      "state": {}
     },
     "c205855d3c2e457ab7b15dfb70d3e1be": {
      "model_module": "@jupyter-widgets/controls",
      "model_module_version": "1.4.0",
      "model_name": "TabModel",
      "state": {
       "_titles": {
        "0": "Linear regression",
        "1": "Normal distribution"
       },
       "children": [
        "IPY_MODEL_9ab4bad81e7147d196e9768a05db9c79",
        "IPY_MODEL_3b4536af84934c57bd8c40e47706eca1"
       ],
       "layout": "IPY_MODEL_48f1679bd3ec411eae716dd1dec7486a"
      }
     },
     "e7044ec771ee490f805af1be692fff27": {
      "model_module": "@jupyter-widgets/base",
      "model_module_version": "1.1.0",
      "model_name": "LayoutModel",
      "state": {}
     },
     "e81b36d5419342d6ab2fc56374435169": {
      "model_module": "@jupyter-widgets/output",
      "model_module_version": "1.0.0",
      "model_name": "OutputModel",
      "state": {
       "layout": "IPY_MODEL_bd3cebbb7c4140a2be5eade679576538",
       "outputs": [
        {
         "data": {
          "image/png": "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\n",
          "text/plain": "<Figure size 432x288 with 1 Axes>"
         },
         "metadata": {
          "needs_background": "light"
         },
         "output_type": "display_data"
        }
       ]
      }
     }
    },
    "version_major": 2,
    "version_minor": 0
   }
  }
 },
 "nbformat": 4,
 "nbformat_minor": 4
}
